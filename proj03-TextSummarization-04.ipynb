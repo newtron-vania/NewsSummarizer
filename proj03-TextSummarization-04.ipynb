{
 "cells": [
  {
   "cell_type": "code",
   "execution_count": 1,
   "metadata": {},
   "outputs": [],
   "source": [
    "# Selenium 설치.\n",
    "# !pip install selenium"
   ]
  },
  {
   "cell_type": "code",
   "execution_count": 2,
   "metadata": {},
   "outputs": [],
   "source": [
    "import numpy as np\n",
    "import re\n",
    "import time\n",
    "import matplotlib.pyplot as plt\n",
    "\n",
    "import urllib.request\n",
    "import requests as rq\n",
    "import bs4\n",
    "\n",
    "import konlpy\n",
    "from wordcloud import WordCloud\n",
    "\n",
    "from sklearn.feature_extraction.text import CountVectorizer\n",
    "import nltk"
   ]
  },
  {
   "cell_type": "code",
   "execution_count": 3,
   "metadata": {},
   "outputs": [],
   "source": [
    "headers = {\"User-Agent\": \"Mozilla/5.0 (Windows NT 10.0; Win64; x64) AppleWebKit/537.36 (KHTML, like Gecko) Chrome/87.0.4280.88 Safari/537.36\"}\n",
    "\n",
    "def cleaning(argStr):\n",
    "    argStr = argStr.lower()\n",
    "    argStr = re.sub(r'[^가-힣0-9a-z.?!]',  ' ',argStr)\n",
    "    argStr = re.sub(\"^.*back\", \"\", argStr)\n",
    "    argStr = re.sub(r'\\s+', ' ',argStr)\n",
    "    argStr = re.sub(r'\\s$', '' ,argStr)\n",
    "    return(argStr)\n",
    "\n",
    "def getLstUrlNews(argLstHl):\n",
    "    lstHyperLinkNews = []\n",
    "    for hl in argLstHl:\n",
    "        hlSubj = hl.find('strong')\n",
    "        if hlSubj:\n",
    "            strSubj = hlSubj.text\n",
    "            if (len(strSubj) > 10):\n",
    "                lstHyperLinkNews.append(hl)\n",
    "                \n",
    "    lstLinkNews = [x.get(\"href\") for x in lstHyperLinkNews]\n",
    "    return(lstLinkNews)\n",
    "\n",
    "def modiUrl(argUrl):    \n",
    "    if \"https://news.naver.com\" not in argUrl:\n",
    "        argUrl = \"https://news.naver.com\" + argUrl\n",
    "        \n",
    "    return(argUrl)\n",
    "\n",
    "def getOneTextNews(argUrl):\n",
    "    url = modiUrl(argUrl)\n",
    "    res = rq.get(url, headers=headers)\n",
    "    time.sleep(0.1)\n",
    "    \n",
    "    soup = bs4.BeautifulSoup(res.text, 'html.parser')\n",
    "    tagCont = soup.find(\"div\", id=\"articleBodyContents\")\n",
    "    return(cleaning(tagCont.text))"
   ]
  },
  {
   "cell_type": "code",
   "execution_count": 4,
   "metadata": {
    "scrolled": true
   },
   "outputs": [
    {
     "name": "stdout",
     "output_type": "stream",
     "text": [
      "1\n",
      "[' 붉은 토양과 암석 화성 사진 2장 공개 앵커 화성 착륙에도 성공하고 다음 목표는 목성이라면서 우주탐사에 속도를 내고 있는 중국입니다. 화성 탐사 로봇이 찍어 보낸 화성의 모습들을 이번에 공개했는데요.박지윤 기자가 전해드립니다. 기자 흑백 사진 속에 화성의 지평선이 보입니다.화성의 거친 표면도 느껴집니다.중국의 화성 탐사 로봇 주룽 에 장착된 카메라가 촬영한 사진으로 광각렌즈를 사용해 지평선은 곡선 형태가 됐습니다.또 다른 사진은 태양광 패널과 안테나가 펼쳐진 모습 사이에 화성의 붉은 토양과 암석을 보여줍니다.주룽의 뒤편에 달린 카메라가 찍은 컬러 사진입니다.중국 국가항천국이 어젯밤 화성 사진 2장을 처음 공개했습니다.이 외에도 화성 탐사선 톈원1호가 분리되는 모습 등 2개의 동영상도 공개했습니다.중국의 화성 탐사선 톈원 1호는 지난 15일 오전 화성 유토피아 평원 남부에 착륙했습니다.지난해 7월 로켓 창정 5호에 실려 지구를 떠난 지 10개월 만입니다.이들 탐사선과 탐사 로봇은 앞으로 3개월 동안 화성 표면과 토양 대기에 대한 조사를 할 예정입니다. 장룽차오 화성 탐사 프로젝트 총 설계자 나중에 우리의 화성 탐사선은 화성 표면을 순찰하고 탐사하는 임무를 수행할 것입니다. 탐사 로봇이 착륙선에서 내려와 상태를 점검하고 경로를 계획합니다. 미국과 구소련에 이어 세계에서 세 번째로 화성 착륙에 성공한 중국은 앞으로의 목표는 목성이라고 밝혔습니다.최근 굵직한 우주 프로젝트를 잇달아 성공시킨 중국은 우주 개발 분야에서 미국과 함께 초강대국의 반열에 올랐습니다.박지윤 기자 park.jiyoon jtbc.co.kr 영상편집 홍여울 시청자와 함께! jtbc 뉴스 제보하기 관점과 분석이 있는 뉴스 jtbc 뉴스룸 이 조합 찬성! 백지영x이무진 사랑 안 해 copyright by jtbc https jtbc.joins.com all rights reserved. 무단 전재 및 재배포 금지']\n"
     ]
    }
   ],
   "source": [
    "naverNewsUrl = \"https://news.naver.com\"\n",
    "headers = {\"User-Agent\": \"Mozilla/5.0 (Windows NT 10.0; Win64; x64) AppleWebKit/537.36 (KHTML, like Gecko) Chrome/87.0.4280.88 Safari/537.36\"}\n",
    "\n",
    "def getLstTextNews(argUrl, argNum=1):\n",
    "    lstNewsText =[]\n",
    "    \n",
    "    res = rq.get(argUrl, headers=headers)\n",
    "    time.sleep(0.1)\n",
    "    \n",
    "    soup01 = bs4.BeautifulSoup(res.text, 'html.parser')\n",
    "    lstHyperLinkElm = soup01.find_all('a', class_=re.compile('clicks'))    \n",
    "    lstUrl = getLstUrlNews(lstHyperLinkElm)\n",
    "    \n",
    "    if  argNum==1:\n",
    "        urlTarget = lstUrl[np.random.randint(0, len(lstUrl))]\n",
    "        lstNewsText.append(getOneTextNews(urlTarget))\n",
    "    else:\n",
    "        for ith in range(argNum):\n",
    "            lstNewsText.append(getOneTextNews(lstUrl[ith]))\n",
    "        \n",
    "    return lstNewsText\n",
    "    \n",
    "lstTextNews= getLstTextNews(naverNewsUrl, 1)\n",
    "print(f\"{len(lstTextNews)}\\n{lstTextNews}\")"
   ]
  },
  {
   "cell_type": "code",
   "execution_count": 5,
   "metadata": {
    "scrolled": true
   },
   "outputs": [
    {
     "name": "stdout",
     "output_type": "stream",
     "text": [
      "17\n",
      "['붉은 토양과 암석 화성 사진 2 장 공개 앵커 화성 착륙에도 성공하고 다음 목표는 목성이라면서 우주 탐사에 속도를 내고 있는 중국입니다.', '화성 탐사 로봇이 찍어 보낸 화성의 모습들을 이번에 공개했는데요. 박지 윤 기자가 전해 드립니다.', '기자 흑백 사진 속에 화성의 지평선이 보입니다.', '화성의 거친 표면도 느껴집니다.', '중국의 화성 탐사 로봇 주룽에 장착된 카메라가 촬영한 사진으로 광각렌즈를 사용해 지평선은 곡선 형태가 됐습니다.', '또 다른 사진은 태양광 패널과 안테나가 펼쳐진 모습 사이에 화성의 붉은 토양과 암석을 보여줍니다.', '주 룽의 뒤편에 달린 카메라가 찍은 컬러 사진입니다.', '중국 국가 항 천국이 어젯밤 화성 사진 2 장을 처음 공개했습니다.', '이 외에도 화성 탐사선 톈 원 1호가 분리되는 모습 등 2개의 동영상도 공개했습니다.', '중국의 화성 탐사선 톈 원 1호는 지난 15일 오전 화성 유토피아 평원 남부에 착륙했습니다.', '지난해 7 월 로켓 창정 5호에 실려 지구를 떠난 지 10개월 만입니다.', '이 들 탐사선과 탐사 로봇은 앞으로 3개월 동안 화성 표면과 토양 대기에 대한 조사를 할 예정입니다.', '장 룽 차 오 화성 탐사 프로젝트 총 설계자 나중에 우리의 화성 탐사선은 화성 표면을 순찰하고 탐사하는 임무를 수행할 것입니다.', '탐사 로봇이 착륙 선에서 내려와 상태를 점검하고 경로를 계획합니다.', '미국과 구소련에 이어 세계에서 세 번째로 화성 착륙에 성공한 중국은 앞으로의 목표는 목성이라고 밝혔습니다.', '최근 굵직한 우주 프로젝트를 잇달아 성공시킨 중국은 우주 개발 분야에서 미국과 함께 초강대국의 반열에 올랐습니다.', '박지 윤 기자 park.jiyoon jtbc.co .kr 영상 편집 홍 여울 시청자와 함께! jtbc 뉴스 제보 하기 관점과 분석이 있는 뉴스 jtbc 뉴스 룸 이 조합 찬성! 백지 영 x이 무진 사랑 안 해 copyright by jtbc https jtbc.joins .com all rights reserved. 무단 전재 및 재배포 금지']\n"
     ]
    }
   ],
   "source": [
    "kkma = konlpy.tag.Kkma()\n",
    "lstSent = kkma.sentences(lstTextNews[0])\n",
    "print(f\"{len(lstSent)}\\n{lstSent}\")"
   ]
  },
  {
   "cell_type": "code",
   "execution_count": 6,
   "metadata": {
    "scrolled": true
   },
   "outputs": [
    {
     "name": "stdout",
     "output_type": "stream",
     "text": [
      "17\n",
      "[[('붉', 'VA'), ('은', 'ETD'), ('토양', 'NNG'), ('과', 'JC'), ('암석', 'NNG'), ('화성', 'NNG'), ('사진', 'NNG'), ('2', 'NR'), ('장', 'NNG'), ('공개', 'NNG'), ('앵커', 'NNG'), ('화성', 'NNG'), ('착륙', 'NNG'), ('에', 'JKM'), ('도', 'JX'), ('성공', 'NNG'), ('하', 'XSV'), ('고', 'ECE'), ('다음', 'NNG'), ('목표', 'NNG'), ('는', 'JX'), ('목성', 'NNG'), ('이', 'VCP'), ('라면서', 'ECE'), ('우주', 'NNG'), ('탐사', 'NNG'), ('에', 'JKM'), ('속도', 'NNG'), ('를', 'JKO'), ('내', 'VV'), ('고', 'ECE'), ('있', 'VXV'), ('는', 'ETD'), ('중국', 'NNG'), ('이', 'VCP'), ('ㅂ니다', 'EFN'), ('.', 'SF')], [('화성', 'NNG'), ('탐사', 'NNG'), ('로봇', 'NNG'), ('이', 'JKS'), ('찍', 'VV'), ('어', 'ECD'), ('보내', 'VV'), ('ㄴ', 'ETD'), ('화성', 'NNG'), ('의', 'JKG'), ('모습', 'NNG'), ('들', 'XSN'), ('을', 'JKO'), ('이번', 'NNG'), ('에', 'JKM'), ('공개', 'NNG'), ('하', 'XSV'), ('었', 'EPT'), ('는데요', 'ECD'), ('.', 'SF'), ('박지', 'NNG'), ('윤', 'NNG'), ('기자', 'NNG'), ('가', 'JKS'), ('전하', 'VV'), ('어', 'ECS'), ('드리', 'VXV'), ('ㅂ니다', 'EFN'), ('.', 'SF')], [('기자', 'NNG'), ('흑백', 'NNG'), ('사진', 'NNG'), ('속', 'NNG'), ('에', 'JKM'), ('화성', 'NNG'), ('의', 'JKG'), ('지평선', 'NNG'), ('이', 'JKS'), ('보이', 'VV'), ('ㅂ니다', 'EFN'), ('.', 'SF')], [('화성', 'NNG'), ('의', 'JKG'), ('거칠', 'VA'), ('ㄴ', 'ETD'), ('표면', 'NNG'), ('도', 'JX'), ('느껴지', 'VV'), ('ㅂ니다', 'EFN'), ('.', 'SF')], [('중국', 'NNG'), ('의', 'JKG'), ('화성', 'NNG'), ('탐사', 'NNG'), ('로봇', 'NNG'), ('주룽', 'UN'), ('에', 'JKM'), ('장착', 'NNG'), ('되', 'XSV'), ('ㄴ', 'ETD'), ('카메라', 'NNG'), ('가', 'JKS'), ('촬영', 'NNG'), ('하', 'XSV'), ('ㄴ', 'ETD'), ('사진', 'NNG'), ('으로', 'JKM'), ('광각렌즈', 'NNG'), ('를', 'JKO'), ('사용하', 'VV'), ('어', 'ECS'), ('지평선', 'NNG'), ('은', 'JX'), ('곡선', 'NNG'), ('형태', 'NNG'), ('가', 'JKC'), ('되', 'VV'), ('었', 'EPT'), ('습니다', 'EFN'), ('.', 'SF')], [('또', 'MAG'), ('다른', 'MDT'), ('사진', 'NNG'), ('은', 'JX'), ('태양광', 'NNG'), ('패널', 'NNG'), ('과', 'JKM'), ('안테나', 'NNG'), ('가', 'JKS'), ('펼쳐지', 'VV'), ('ㄴ', 'ETD'), ('모습', 'NNG'), ('사이', 'NNG'), ('에', 'JKM'), ('화성', 'NNG'), ('의', 'JKG'), ('붉', 'VA'), ('은', 'ETD'), ('토양', 'NNG'), ('과', 'JC'), ('암석', 'NNG'), ('을', 'JKO'), ('보여주', 'VV'), ('ㅂ니다', 'EFN'), ('.', 'SF')], [('주', 'NNG'), ('룽', 'UN'), ('의', 'JKG'), ('뒤편', 'NNG'), ('에', 'JKM'), ('달리', 'VV'), ('ㄴ', 'ETD'), ('카메라', 'NNG'), ('가', 'JKS'), ('찍', 'VV'), ('은', 'ETD'), ('컬러', 'NNG'), ('사진', 'NNG'), ('이', 'VCP'), ('ㅂ니다', 'EFN'), ('.', 'SF')], [('중국', 'NNG'), ('국가', 'NNG'), ('항', 'NNG'), ('천국', 'NNG'), ('이', 'JKS'), ('어젯밤', 'NNG'), ('화성', 'NNG'), ('사진', 'NNG'), ('2', 'NR'), ('장', 'NNG'), ('을', 'JKO'), ('처음', 'NNG'), ('공개', 'NNG'), ('하', 'XSV'), ('었', 'EPT'), ('습니다', 'EFN'), ('.', 'SF')], [('이', 'MDT'), ('외', 'NNB'), ('에', 'JKM'), ('도', 'JX'), ('화성', 'NNG'), ('탐사선', 'NNG'), ('톈', 'UN'), ('원', 'NNG'), ('1', 'NR'), ('호', 'NNM'), ('가', 'JKS'), ('분리', 'NNG'), ('되', 'XSV'), ('는', 'ETD'), ('모습', 'NNG'), ('등', 'NNB'), ('2', 'NR'), ('개', 'NNM'), ('의', 'JKG'), ('동영상', 'NNG'), ('도', 'JX'), ('공개', 'NNG'), ('하', 'XSV'), ('었', 'EPT'), ('습니다', 'EFN'), ('.', 'SF')], [('중국', 'NNG'), ('의', 'JKG'), ('화성', 'NNG'), ('탐사선', 'NNG'), ('톈', 'UN'), ('원', 'NNG'), ('1', 'NR'), ('호', 'NNM'), ('는', 'JX'), ('지나', 'VV'), ('ㄴ', 'ETD'), ('15', 'NR'), ('일', 'NNM'), ('오전', 'NNG'), ('화성', 'NNG'), ('유토피아', 'NNG'), ('평원', 'NNG'), ('남부', 'NNG'), ('에', 'JKM'), ('착륙', 'NNG'), ('하', 'XSV'), ('었', 'EPT'), ('습니다', 'EFN'), ('.', 'SF')], [('지난해', 'NNG'), ('7', 'NR'), ('월', 'NNG'), ('로켓', 'NNG'), ('창정', 'NNG'), ('5', 'NR'), ('호', 'NNM'), ('에', 'JKM'), ('실리', 'VV'), ('어', 'ECS'), ('지구', 'NNG'), ('를', 'JKO'), ('떠나', 'VV'), ('ㄴ', 'ETD'), ('지', 'NNB'), ('10', 'NR'), ('개월', 'NNM'), ('만', 'NNB'), ('이', 'VCP'), ('ㅂ니다', 'EFN'), ('.', 'SF')], [('이', 'NNG'), ('들', 'VV'), ('ㄹ', 'ETD'), ('탐사선', 'NNG'), ('과', 'JC'), ('탐사', 'NNG'), ('로봇', 'NNG'), ('은', 'JX'), ('앞', 'NNG'), ('으로', 'JKM'), ('3', 'NR'), ('개월', 'NNM'), ('동안', 'NNG'), ('화성', 'NNG'), ('표면', 'NNG'), ('과', 'JC'), ('토양', 'NNG'), ('대기', 'NNG'), ('에', 'JKM'), ('대하', 'VV'), ('ㄴ', 'ETD'), ('조사', 'NNG'), ('를', 'JKO'), ('하', 'VV'), ('ㄹ', 'ETD'), ('예정', 'NNG'), ('이', 'VCP'), ('ㅂ니다', 'EFN'), ('.', 'SF')], [('장', 'NNG'), ('룽', 'UN'), ('차', 'NNG'), ('오', 'NNG'), ('화성', 'NNG'), ('탐사', 'NNG'), ('프로젝트', 'NNG'), ('총', 'MDT'), ('설계자', 'NNG'), ('나중', 'NNG'), ('에', 'JKM'), ('우리', 'NP'), ('의', 'JKG'), ('화성', 'NNG'), ('탐사선', 'NNG'), ('은', 'JX'), ('화성', 'NNG'), ('표면', 'NNG'), ('을', 'JKO'), ('순찰', 'NNG'), ('하', 'XSV'), ('고', 'ECE'), ('탐사', 'NNG'), ('하', 'XSV'), ('는', 'ETD'), ('임무', 'NNG'), ('를', 'JKO'), ('수행', 'NNG'), ('하', 'XSV'), ('ㄹ', 'ETD'), ('것', 'NNB'), ('이', 'VCP'), ('ㅂ니다', 'EFN'), ('.', 'SF')], [('탐사', 'NNG'), ('로봇', 'NNG'), ('이', 'JKS'), ('착륙', 'NNG'), ('선', 'NNG'), ('에서', 'JKM'), ('내려오', 'VV'), ('아', 'ECS'), ('상태', 'NNG'), ('를', 'JKO'), ('점검', 'NNG'), ('하', 'XSV'), ('고', 'ECE'), ('경로', 'NNG'), ('를', 'JKO'), ('계획', 'NNG'), ('하', 'XSV'), ('ㅂ니다', 'EFN'), ('.', 'SF')], [('미국', 'NNP'), ('과', 'JKM'), ('구소련', 'NNG'), ('에', 'JKM'), ('잇', 'VV'), ('어', 'ECD'), ('세계', 'NNG'), ('에서', 'JKM'), ('세', 'MDN'), ('번째', 'NNB'), ('로', 'JKM'), ('화성', 'NNG'), ('착륙', 'NNG'), ('에', 'JKM'), ('성공', 'NNG'), ('하', 'XSV'), ('ㄴ', 'ETD'), ('중국', 'NNG'), ('은', 'JX'), ('앞', 'NNG'), ('으로', 'JKM'), ('의', 'JKG'), ('목표', 'NNG'), ('는', 'JX'), ('목성', 'NNG'), ('이', 'VCP'), ('라고', 'ECD'), ('밝히', 'VV'), ('었', 'EPT'), ('습니다', 'EFN'), ('.', 'SF')], [('최근', 'NNG'), ('굵직', 'XR'), ('하', 'XSA'), ('ㄴ', 'ETD'), ('우주', 'NNG'), ('프로젝트', 'NNG'), ('를', 'JKO'), ('잇달', 'VV'), ('아', 'ECD'), ('성공', 'NNG'), ('시키', 'XSV'), ('ㄴ', 'ETD'), ('중국', 'NNG'), ('은', 'JX'), ('우주', 'NNG'), ('개발', 'NNG'), ('분야', 'NNG'), ('에서', 'JKM'), ('미국', 'NNP'), ('과', 'JKM'), ('함께', 'MAG'), ('초', 'XPN'), ('강대국', 'NNG'), ('의', 'JKG'), ('반열', 'NNG'), ('에', 'JKM'), ('오르', 'VV'), ('았', 'EPT'), ('습니다', 'EFN'), ('.', 'SF')], [('박지', 'NNG'), ('윤', 'NNG'), ('기자', 'NNG'), ('park', 'OL'), ('.', 'SF'), ('jiyoon', 'OL'), ('jtbc', 'OL'), ('.', 'SF'), ('co', 'OL'), ('.', 'SF'), ('kr', 'OL'), ('영상', 'NNG'), ('편집', 'NNG'), ('홍', 'NNG'), ('여울', 'NNG'), ('시청자', 'NNG'), ('와', 'JKM'), ('함께', 'MAG'), ('!', 'SF'), ('jtbc', 'OL'), ('뉴스', 'NNG'), ('제보', 'NNG'), ('하기', 'NNG'), ('관점', 'NNG'), ('과', 'JKM'), ('분석', 'NNG'), ('이', 'JKS'), ('있', 'VV'), ('는', 'ETD'), ('뉴스', 'NNG'), ('jtbc', 'OL'), ('뉴스', 'NNG'), ('룸', 'NNG'), ('이', 'NNG'), ('조합', 'NNG'), ('찬성', 'NNG'), ('!', 'SF'), ('백지', 'MAG'), ('영', 'NNG'), ('x', 'OL'), ('이', 'JKS'), ('무진', 'NNP'), ('사랑', 'NNG'), ('안', 'NNG'), ('해', 'NNG'), ('copyright', 'OL'), ('by', 'OL'), ('jtbc', 'OL'), ('https', 'OL'), ('jtbc', 'OL'), ('.', 'SF'), ('joins', 'OL'), ('.', 'SF'), ('com', 'OL'), ('all', 'OL'), ('rights', 'OL'), ('reserved', 'OL'), ('.', 'SF'), ('무단', 'NNG'), ('전재', 'NNG'), ('및', 'MAG'), ('재', 'XPN'), ('배포', 'NNG'), ('금지', 'NNG')]]\n"
     ]
    }
   ],
   "source": [
    "import c\n",
    "lstPosSent = []\n",
    "for x in lstSent:\n",
    "    lstPosSent.append(kkma.pos(x))\n",
    "\n",
    "print(f\"{len(lstPosSent)}\\n{lstPosSent}\")"
   ]
  },
  {
   "cell_type": "code",
   "execution_count": 7,
   "metadata": {
    "scrolled": true
   },
   "outputs": [
    {
     "name": "stdout",
     "output_type": "stream",
     "text": [
      "17\n",
      "[' 붉 은 토양 과 암석 화성 사진 2 장 공개 앵커 화성 착륙 에 도 성공 하 고 다음 목표 는 목성 이 라면서 우주 탐사 에 속도 를 내 고 있 는 중국 이 ㅂ니다 .', ' 화성 탐사 로봇 이 찍 어 보내 ㄴ 화성 의 모습 들 을 이번 에 공개 하 었 는데요 . 박지 윤 기자 가 전하 어 드리 ㅂ니다 .', ' 기자 흑백 사진 속 에 화성 의 지평선 이 보이 ㅂ니다 .', ' 화성 의 거칠 ㄴ 표면 도 느껴지 ㅂ니다 .', ' 중국 의 화성 탐사 로봇 주룽 에 장착 되 ㄴ 카메라 가 촬영 하 ㄴ 사진 으로 광각렌즈 를 사용하 어 지평선 은 곡선 형태 가 되 었 습니다 .', ' 또 다른 사진 은 태양광 패널 과 안테나 가 펼쳐지 ㄴ 모습 사이 에 화성 의 붉 은 토양 과 암석 을 보여주 ㅂ니다 .', ' 주 룽 의 뒤편 에 달리 ㄴ 카메라 가 찍 은 컬러 사진 이 ㅂ니다 .', ' 중국 국가 항 천국 이 어젯밤 화성 사진 2 장 을 처음 공개 하 었 습니다 .', ' 이 외 에 도 화성 탐사선 톈 원 1 호 가 분리 되 는 모습 등 2 개 의 동영상 도 공개 하 었 습니다 .', ' 중국 의 화성 탐사선 톈 원 1 호 는 지나 ㄴ 15 일 오전 화성 유토피아 평원 남부 에 착륙 하 었 습니다 .', ' 지난해 7 월 로켓 창정 5 호 에 실리 어 지구 를 떠나 ㄴ 지 10 개월 만 이 ㅂ니다 .', ' 이 들 ㄹ 탐사선 과 탐사 로봇 은 앞 으로 3 개월 동안 화성 표면 과 토양 대기 에 대하 ㄴ 조사 를 하 ㄹ 예정 이 ㅂ니다 .', ' 장 룽 차 오 화성 탐사 프로젝트 총 설계자 나중 에 우리 의 화성 탐사선 은 화성 표면 을 순찰 하 고 탐사 하 는 임무 를 수행 하 ㄹ 것 이 ㅂ니다 .', ' 탐사 로봇 이 착륙 선 에서 내려오 아 상태 를 점검 하 고 경로 를 계획 하 ㅂ니다 .', ' 미국 과 구소련 에 잇 어 세계 에서 세 번째 로 화성 착륙 에 성공 하 ㄴ 중국 은 앞 으로 의 목표 는 목성 이 라고 밝히 었 습니다 .', ' 최근 굵직 하 ㄴ 우주 프로젝트 를 잇달 아 성공 시키 ㄴ 중국 은 우주 개발 분야 에서 미국 과 함께 초 강대국 의 반열 에 오르 았 습니다 .', ' 박지 윤 기자 park . jiyoon jtbc . co . kr 영상 편집 홍 여울 시청자 와 함께 ! jtbc 뉴스 제보 하기 관점 과 분석 이 있 는 뉴스 jtbc 뉴스 룸 이 조합 찬성 ! 백지 영 x 이 무진 사랑 안 해 copyright by jtbc https jtbc . joins . com all rights reserved . 무단 전재 및 재 배포 금지']\n"
     ]
    }
   ],
   "source": [
    "lstPosStop = []\n",
    "def makeLstNormSent(argLstPosSent,argLstPosStop, argPos=False, argMinLen=0, argOne=True):\n",
    "    \n",
    "    lstStrSent = []\n",
    "    \n",
    "    for oneSent in argLstPosSent:\n",
    "        strOneSent = \"\"\n",
    "        for word, pos in oneSent:\n",
    "            lstIsStop = [x in pos for x in argLstPosStop]\n",
    "            if not any(lstIsStop) and len(word) >= argMinLen:\n",
    "                if argPos==True:\n",
    "                    strOneSent += (\" \"+ word +\"-\"+pos)\n",
    "                else:\n",
    "                    strOneSent += (\" \"+ word)\n",
    "        lstStrSent.append(strOneSent)\n",
    "        \n",
    "    if argOne==True:\n",
    "        lstStrSent = [\" \".join(lstStrSent)]\n",
    "    return(lstStrSent)\n",
    "\n",
    "lstNormSent = makeLstNormSent(lstPosSent, lstPosStop, argPos=True, argMinLen=0, argOne=False)\n",
    "\n",
    "print(f\"{len(lstNormSent)}\\n{lstNormSent}\")"
   ]
  },
  {
   "cell_type": "code",
   "execution_count": 8,
   "metadata": {
    "scrolled": true
   },
   "outputs": [
    {
     "name": "stdout",
     "output_type": "stream",
     "text": [
      "192\n",
      "['10 개월 ㅂ니다', '15 오전 화성', 'all rights reserved', 'by jtbc https', 'co kr 영상', 'com all rights', 'copyright by jtbc', 'https jtbc joins', 'jiyoon jtbc co', 'joins com all', 'jtbc co kr', 'jtbc https jtbc', 'jtbc joins com', 'jtbc 뉴스 제보', 'jtbc 뉴스 조합', 'kr 영상 편집', 'park jiyoon jtbc', 'reserved 무단 전재', 'rights reserved 무단', '강대국 반열 오르', '개발 분야 에서', '개월 동안 화성', '거칠 표면 느껴지', '경로 계획 ㅂ니다', '곡선 형태 습니다', '공개 는데요 박지', '공개 앵커 화성', '관점 분석 뉴스', '광각렌즈 사용하 지평선', '구소련 세계 에서', '국가 천국 어젯밤', '굵직 우주 프로젝트', '기자 park jiyoon', '기자 전하 드리', '기자 흑백 사진', '나중 우리 화성', '남부 착륙 습니다', '내려오 상태 점검', '뉴스 jtbc 뉴스', '뉴스 제보 하기', '뉴스 조합 찬성', '는데요 박지 기자', '다른 사진 태양광', '다음 목표 목성', '달리 카메라 컬러', '대기 대하 조사', '대하 조사 예정', '동안 화성 표면', '동영상 공개 습니다', '뒤편 달리 카메라', '떠나 10 개월', '라고 밝히 습니다', '라면서 우주 탐사', '로봇 보내 화성', '로봇 으로 개월', '로봇 주룽 장착', '로봇 착륙 에서', '로켓 창정 실리', '모습 동영상 공개', '모습 사이 화성', '모습 이번 공개', '목성 라고 밝히', '목성 라면서 우주', '목표 목성 라고', '목표 목성 라면서', '무단 전재 배포', '무진 사랑 copyright', '미국 구소련 세계', '미국 함께 강대국', '박지 기자 park', '박지 기자 전하', '반열 오르 습니다', '백지 무진 사랑', '번째 화성 착륙', '보내 화성 모습', '분리 모습 동영상', '분석 뉴스 jtbc', '분야 에서 미국', '사랑 copyright by', '사용하 지평선 곡선', '사이 화성 토양', '사진 공개 앵커', '사진 으로 광각렌즈', '사진 처음 공개', '사진 태양광 패널', '사진 화성 지평선', '상태 점검 경로', '설계자 나중 우리', '성공 다음 목표', '성공 시키 중국', '성공 중국 으로', '세계 에서 번째', '속도 중국 ㅂ니다', '순찰 탐사 임무', '시청자 함께 jtbc', '시키 중국 우주', '실리 지구 떠나', '안테나 펼쳐지 모습', '암석 보여주 ㅂ니다', '암석 화성 사진', '앵커 화성 착륙', '어젯밤 화성 사진', '에서 내려오 상태', '에서 미국 함께', '에서 번째 화성', '여울 시청자 함께', '영상 편집 여울', '오전 화성 유토피아', '우리 화성 탐사선', '우주 개발 분야', '우주 탐사 속도', '우주 프로젝트 잇달', '유토피아 평원 남부', '으로 개월 동안', '으로 광각렌즈 사용하', '으로 목표 목성', '이번 공개 는데요', '임무 수행 ㅂ니다', '잇달 성공 시키', '장착 카메라 촬영', '전재 배포 금지', '전하 드리 ㅂ니다', '점검 경로 계획', '제보 하기 관점', '조사 예정 ㅂ니다', '조합 찬성 백지', '주룽 장착 카메라', '중국 국가 천국', '중국 우주 개발', '중국 으로 목표', '중국 화성 탐사', '중국 화성 탐사선', '지구 떠나 10', '지나 15 오전', '지난해 로켓 창정', '지평선 곡선 형태', '지평선 보이 ㅂ니다', '착륙 성공 다음', '착륙 성공 중국', '착륙 에서 내려오', '찬성 백지 무진', '창정 실리 지구', '처음 공개 습니다', '천국 어젯밤 화성', '촬영 사진 으로', '최근 굵직 우주', '카메라 촬영 사진', '카메라 컬러 사진', '컬러 사진 ㅂ니다', '탐사 로봇 보내', '탐사 로봇 으로', '탐사 로봇 주룽', '탐사 로봇 착륙', '탐사 속도 중국', '탐사 임무 수행', '탐사 프로젝트 설계자', '탐사선 분리 모습', '탐사선 지나 15', '탐사선 탐사 로봇', '탐사선 화성 표면', '태양광 패널 안테나', '토양 대기 대하', '토양 암석 보여주', '토양 암석 화성', '패널 안테나 펼쳐지', '편집 여울 시청자', '펼쳐지 모습 사이', '평원 남부 착륙', '표면 느껴지 ㅂ니다', '표면 순찰 탐사', '표면 토양 대기', '프로젝트 설계자 나중', '프로젝트 잇달 성공', '하기 관점 분석', '함께 jtbc 뉴스', '함께 강대국 반열', '화성 거칠 표면', '화성 모습 이번', '화성 사진 공개', '화성 사진 처음', '화성 유토피아 평원', '화성 지평선 보이', '화성 착륙 성공', '화성 탐사 로봇', '화성 탐사 프로젝트', '화성 탐사선 분리', '화성 탐사선 지나', '화성 탐사선 화성', '화성 토양 암석', '화성 표면 순찰', '화성 표면 토양', '흑백 사진 화성']\n"
     ]
    }
   ],
   "source": [
    "def makeNGram(argLstSent, argNum=3):\n",
    "    vectMy = CountVectorizer(ngram_range=(argNum, argNum), analyzer=\"word\")\n",
    "    lstNGram = vectMy.fit(argLstSent).get_feature_names()\n",
    "    # ar2NGramCnt = vectMy.transform(argLstSent).toarray()        # 결과는 array of array.\n",
    "    # lstNGramCnt = list(ar2NGramCnt[0])                          # 단순한 리스트로 변환.\n",
    "    return(lstNGram)\n",
    "\n",
    "lstNGram = makeNGram(lstNormSent)\n",
    "print(f\"{len(lstNGram)}\\n{lstNGram}\")"
   ]
  },
  {
   "cell_type": "code",
   "execution_count": 9,
   "metadata": {
    "scrolled": true
   },
   "outputs": [
    {
     "name": "stdout",
     "output_type": "stream",
     "text": [
      "178\n",
      "{'10 개월': ['ㅂ니다'], '15 오전': ['화성'], 'all rights': ['reserved'], 'by jtbc': ['https'], 'co kr': ['영상'], 'com all': ['rights'], 'copyright by': ['jtbc'], 'https jtbc': ['joins'], 'jiyoon jtbc': ['co'], 'joins com': ['all'], 'jtbc co': ['kr'], 'jtbc https': ['jtbc'], 'jtbc joins': ['com'], 'jtbc 뉴스': ['제보', '조합'], 'kr 영상': ['편집'], 'park jiyoon': ['jtbc'], 'reserved 무단': ['전재'], 'rights reserved': ['무단'], '강대국 반열': ['오르'], '개발 분야': ['에서'], '개월 동안': ['화성'], '거칠 표면': ['느껴지'], '경로 계획': ['ㅂ니다'], '곡선 형태': ['습니다'], '공개 는데요': ['박지'], '공개 앵커': ['화성'], '관점 분석': ['뉴스'], '광각렌즈 사용하': ['지평선'], '구소련 세계': ['에서'], '국가 천국': ['어젯밤'], '굵직 우주': ['프로젝트'], '기자 park': ['jiyoon'], '기자 전하': ['드리'], '기자 흑백': ['사진'], '나중 우리': ['화성'], '남부 착륙': ['습니다'], '내려오 상태': ['점검'], '뉴스 jtbc': ['뉴스'], '뉴스 제보': ['하기'], '뉴스 조합': ['찬성'], '는데요 박지': ['기자'], '다른 사진': ['태양광'], '다음 목표': ['목성'], '달리 카메라': ['컬러'], '대기 대하': ['조사'], '대하 조사': ['예정'], '동안 화성': ['표면'], '동영상 공개': ['습니다'], '뒤편 달리': ['카메라'], '떠나 10': ['개월'], '라고 밝히': ['습니다'], '라면서 우주': ['탐사'], '로봇 보내': ['화성'], '로봇 으로': ['개월'], '로봇 주룽': ['장착'], '로봇 착륙': ['에서'], '로켓 창정': ['실리'], '모습 동영상': ['공개'], '모습 사이': ['화성'], '모습 이번': ['공개'], '목성 라고': ['밝히'], '목성 라면서': ['우주'], '목표 목성': ['라고', '라면서'], '무단 전재': ['배포'], '무진 사랑': ['copyright'], '미국 구소련': ['세계'], '미국 함께': ['강대국'], '박지 기자': ['park', '전하'], '반열 오르': ['습니다'], '백지 무진': ['사랑'], '번째 화성': ['착륙'], '보내 화성': ['모습'], '분리 모습': ['동영상'], '분석 뉴스': ['jtbc'], '분야 에서': ['미국'], '사랑 copyright': ['by'], '사용하 지평선': ['곡선'], '사이 화성': ['토양'], '사진 공개': ['앵커'], '사진 으로': ['광각렌즈'], '사진 처음': ['공개'], '사진 태양광': ['패널'], '사진 화성': ['지평선'], '상태 점검': ['경로'], '설계자 나중': ['우리'], '성공 다음': ['목표'], '성공 시키': ['중국'], '성공 중국': ['으로'], '세계 에서': ['번째'], '속도 중국': ['ㅂ니다'], '순찰 탐사': ['임무'], '시청자 함께': ['jtbc'], '시키 중국': ['우주'], '실리 지구': ['떠나'], '안테나 펼쳐지': ['모습'], '암석 보여주': ['ㅂ니다'], '암석 화성': ['사진'], '앵커 화성': ['착륙'], '어젯밤 화성': ['사진'], '에서 내려오': ['상태'], '에서 미국': ['함께'], '에서 번째': ['화성'], '여울 시청자': ['함께'], '영상 편집': ['여울'], '오전 화성': ['유토피아'], '우리 화성': ['탐사선'], '우주 개발': ['분야'], '우주 탐사': ['속도'], '우주 프로젝트': ['잇달'], '유토피아 평원': ['남부'], '으로 개월': ['동안'], '으로 광각렌즈': ['사용하'], '으로 목표': ['목성'], '이번 공개': ['는데요'], '임무 수행': ['ㅂ니다'], '잇달 성공': ['시키'], '장착 카메라': ['촬영'], '전재 배포': ['금지'], '전하 드리': ['ㅂ니다'], '점검 경로': ['계획'], '제보 하기': ['관점'], '조사 예정': ['ㅂ니다'], '조합 찬성': ['백지'], '주룽 장착': ['카메라'], '중국 국가': ['천국'], '중국 우주': ['개발'], '중국 으로': ['목표'], '중국 화성': ['탐사', '탐사선'], '지구 떠나': ['10'], '지나 15': ['오전'], '지난해 로켓': ['창정'], '지평선 곡선': ['형태'], '지평선 보이': ['ㅂ니다'], '착륙 성공': ['다음', '중국'], '착륙 에서': ['내려오'], '찬성 백지': ['무진'], '창정 실리': ['지구'], '처음 공개': ['습니다'], '천국 어젯밤': ['화성'], '촬영 사진': ['으로'], '최근 굵직': ['우주'], '카메라 촬영': ['사진'], '카메라 컬러': ['사진'], '컬러 사진': ['ㅂ니다'], '탐사 로봇': ['보내', '으로', '주룽', '착륙'], '탐사 속도': ['중국'], '탐사 임무': ['수행'], '탐사 프로젝트': ['설계자'], '탐사선 분리': ['모습'], '탐사선 지나': ['15'], '탐사선 탐사': ['로봇'], '탐사선 화성': ['표면'], '태양광 패널': ['안테나'], '토양 대기': ['대하'], '토양 암석': ['보여주', '화성'], '패널 안테나': ['펼쳐지'], '편집 여울': ['시청자'], '펼쳐지 모습': ['사이'], '평원 남부': ['착륙'], '표면 느껴지': ['ㅂ니다'], '표면 순찰': ['탐사'], '표면 토양': ['대기'], '프로젝트 설계자': ['나중'], '프로젝트 잇달': ['성공'], '하기 관점': ['분석'], '함께 jtbc': ['뉴스'], '함께 강대국': ['반열'], '화성 거칠': ['표면'], '화성 모습': ['이번'], '화성 사진': ['공개', '처음'], '화성 유토피아': ['평원'], '화성 지평선': ['보이'], '화성 착륙': ['성공'], '화성 탐사': ['로봇', '프로젝트'], '화성 탐사선': ['분리', '지나', '화성'], '화성 토양': ['암석'], '화성 표면': ['순찰', '토양'], '흑백 사진': ['화성']}\n"
     ]
    }
   ],
   "source": [
    "def makeBaseDic(argLstNGram, argNum=3):\n",
    "    dicBase = {}\n",
    "    \n",
    "    for x in argLstNGram:\n",
    "        lstWord = nltk.word_tokenize(x)\n",
    "        preGram = ' '.join(lstWord[0:argNum-1])\n",
    "        postGram = lstWord[-1]\n",
    "        \n",
    "        if preGram not in dicBase.keys():\n",
    "            dicBase[preGram] = [postGram]\n",
    "        else:\n",
    "            dicBase[preGram] += [postGram]\n",
    "    return(dicBase)\n",
    "\n",
    "dicBase = makeBaseDic(lstNGram)\n",
    "print(f\"{len(dicBase)}\\n{dicBase}\")"
   ]
  },
  {
   "cell_type": "code",
   "execution_count": 10,
   "metadata": {
    "scrolled": true
   },
   "outputs": [
    {
     "name": "stdout",
     "output_type": "stream",
     "text": [
      "178\n",
      "[('탐사 로봇', ['보내', '으로', '주룽', '착륙']), ('화성 탐사선', ['분리', '지나', '화성']), ('jtbc 뉴스', ['제보', '조합']), ('목표 목성', ['라고', '라면서']), ('박지 기자', ['park', '전하']), ('중국 화성', ['탐사', '탐사선']), ('착륙 성공', ['다음', '중국']), ('토양 암석', ['보여주', '화성']), ('화성 사진', ['공개', '처음']), ('화성 탐사', ['로봇', '프로젝트']), ('화성 표면', ['순찰', '토양']), ('10 개월', ['ㅂ니다']), ('15 오전', ['화성']), ('all rights', ['reserved']), ('by jtbc', ['https']), ('co kr', ['영상']), ('com all', ['rights']), ('copyright by', ['jtbc']), ('https jtbc', ['joins']), ('jiyoon jtbc', ['co']), ('joins com', ['all']), ('jtbc co', ['kr']), ('jtbc https', ['jtbc']), ('jtbc joins', ['com']), ('kr 영상', ['편집']), ('park jiyoon', ['jtbc']), ('reserved 무단', ['전재']), ('rights reserved', ['무단']), ('강대국 반열', ['오르']), ('개발 분야', ['에서']), ('개월 동안', ['화성']), ('거칠 표면', ['느껴지']), ('경로 계획', ['ㅂ니다']), ('곡선 형태', ['습니다']), ('공개 는데요', ['박지']), ('공개 앵커', ['화성']), ('관점 분석', ['뉴스']), ('광각렌즈 사용하', ['지평선']), ('구소련 세계', ['에서']), ('국가 천국', ['어젯밤']), ('굵직 우주', ['프로젝트']), ('기자 park', ['jiyoon']), ('기자 전하', ['드리']), ('기자 흑백', ['사진']), ('나중 우리', ['화성']), ('남부 착륙', ['습니다']), ('내려오 상태', ['점검']), ('뉴스 jtbc', ['뉴스']), ('뉴스 제보', ['하기']), ('뉴스 조합', ['찬성']), ('는데요 박지', ['기자']), ('다른 사진', ['태양광']), ('다음 목표', ['목성']), ('달리 카메라', ['컬러']), ('대기 대하', ['조사']), ('대하 조사', ['예정']), ('동안 화성', ['표면']), ('동영상 공개', ['습니다']), ('뒤편 달리', ['카메라']), ('떠나 10', ['개월']), ('라고 밝히', ['습니다']), ('라면서 우주', ['탐사']), ('로봇 보내', ['화성']), ('로봇 으로', ['개월']), ('로봇 주룽', ['장착']), ('로봇 착륙', ['에서']), ('로켓 창정', ['실리']), ('모습 동영상', ['공개']), ('모습 사이', ['화성']), ('모습 이번', ['공개']), ('목성 라고', ['밝히']), ('목성 라면서', ['우주']), ('무단 전재', ['배포']), ('무진 사랑', ['copyright']), ('미국 구소련', ['세계']), ('미국 함께', ['강대국']), ('반열 오르', ['습니다']), ('백지 무진', ['사랑']), ('번째 화성', ['착륙']), ('보내 화성', ['모습']), ('분리 모습', ['동영상']), ('분석 뉴스', ['jtbc']), ('분야 에서', ['미국']), ('사랑 copyright', ['by']), ('사용하 지평선', ['곡선']), ('사이 화성', ['토양']), ('사진 공개', ['앵커']), ('사진 으로', ['광각렌즈']), ('사진 처음', ['공개']), ('사진 태양광', ['패널']), ('사진 화성', ['지평선']), ('상태 점검', ['경로']), ('설계자 나중', ['우리']), ('성공 다음', ['목표']), ('성공 시키', ['중국']), ('성공 중국', ['으로']), ('세계 에서', ['번째']), ('속도 중국', ['ㅂ니다']), ('순찰 탐사', ['임무']), ('시청자 함께', ['jtbc']), ('시키 중국', ['우주']), ('실리 지구', ['떠나']), ('안테나 펼쳐지', ['모습']), ('암석 보여주', ['ㅂ니다']), ('암석 화성', ['사진']), ('앵커 화성', ['착륙']), ('어젯밤 화성', ['사진']), ('에서 내려오', ['상태']), ('에서 미국', ['함께']), ('에서 번째', ['화성']), ('여울 시청자', ['함께']), ('영상 편집', ['여울']), ('오전 화성', ['유토피아']), ('우리 화성', ['탐사선']), ('우주 개발', ['분야']), ('우주 탐사', ['속도']), ('우주 프로젝트', ['잇달']), ('유토피아 평원', ['남부']), ('으로 개월', ['동안']), ('으로 광각렌즈', ['사용하']), ('으로 목표', ['목성']), ('이번 공개', ['는데요']), ('임무 수행', ['ㅂ니다']), ('잇달 성공', ['시키']), ('장착 카메라', ['촬영']), ('전재 배포', ['금지']), ('전하 드리', ['ㅂ니다']), ('점검 경로', ['계획']), ('제보 하기', ['관점']), ('조사 예정', ['ㅂ니다']), ('조합 찬성', ['백지']), ('주룽 장착', ['카메라']), ('중국 국가', ['천국']), ('중국 우주', ['개발']), ('중국 으로', ['목표']), ('지구 떠나', ['10']), ('지나 15', ['오전']), ('지난해 로켓', ['창정']), ('지평선 곡선', ['형태']), ('지평선 보이', ['ㅂ니다']), ('착륙 에서', ['내려오']), ('찬성 백지', ['무진']), ('창정 실리', ['지구']), ('처음 공개', ['습니다']), ('천국 어젯밤', ['화성']), ('촬영 사진', ['으로']), ('최근 굵직', ['우주']), ('카메라 촬영', ['사진']), ('카메라 컬러', ['사진']), ('컬러 사진', ['ㅂ니다']), ('탐사 속도', ['중국']), ('탐사 임무', ['수행']), ('탐사 프로젝트', ['설계자']), ('탐사선 분리', ['모습']), ('탐사선 지나', ['15']), ('탐사선 탐사', ['로봇']), ('탐사선 화성', ['표면']), ('태양광 패널', ['안테나']), ('토양 대기', ['대하']), ('패널 안테나', ['펼쳐지']), ('편집 여울', ['시청자']), ('펼쳐지 모습', ['사이']), ('평원 남부', ['착륙']), ('표면 느껴지', ['ㅂ니다']), ('표면 순찰', ['탐사']), ('표면 토양', ['대기']), ('프로젝트 설계자', ['나중']), ('프로젝트 잇달', ['성공']), ('하기 관점', ['분석']), ('함께 jtbc', ['뉴스']), ('함께 강대국', ['반열']), ('화성 거칠', ['표면']), ('화성 모습', ['이번']), ('화성 유토피아', ['평원']), ('화성 지평선', ['보이']), ('화성 착륙', ['성공']), ('화성 토양', ['암석']), ('흑백 사진', ['화성'])]\n"
     ]
    }
   ],
   "source": [
    "def makeLstSeed(argDic):\n",
    "    return sorted(argDic.items(), key=lambda x : len(x[1]), reverse=True)\n",
    "\n",
    "lstSeed =makeLstSeed(dicBase)\n",
    "print(f\"{len(lstSeed)}\\n{lstSeed}\")"
   ]
  },
  {
   "cell_type": "code",
   "execution_count": 11,
   "metadata": {},
   "outputs": [
    {
     "data": {
      "text/plain": [
       "'착륙'"
      ]
     },
     "execution_count": 11,
     "metadata": {},
     "output_type": "execute_result"
    }
   ],
   "source": [
    "def predByNGram(argPreGram, argDicBase):\n",
    "    rangeIdx = len(argDicBase[argPreGram])\n",
    "    idxPic = np.random.randint(0, rangeIdx)\n",
    "    return(argDicBase[argPreGram][idxPic])\n",
    "\n",
    "predByNGram(lstSeed[0][0], dicBase)"
   ]
  },
  {
   "cell_type": "code",
   "execution_count": 12,
   "metadata": {},
   "outputs": [
    {
     "data": {
      "text/plain": [
       "' 탐사 로봇 보내 화성 모습 이번 공개 는데요 박지 기자 park jiyoon jtbc co kr 영상 편집 여울 시청자 함께 jtbc 뉴스 제보 하기 관점 분석 뉴스 jtbc 뉴스 제보 하기 관점 분석 뉴스 jtbc 뉴스 제보 하기 관점 분석 뉴스 jtbc 뉴스 제보 하기 관점 분석 뉴스 jtbc 뉴스 조합 찬성 백지'"
      ]
     },
     "execution_count": 12,
     "metadata": {},
     "output_type": "execute_result"
    }
   ],
   "source": [
    "def genSentByNGram(argLstSeed, argDicBase, argNum):    \n",
    "    cnt = 0\n",
    "    strOut = \"\"\n",
    "    while cnt < argNum:\n",
    "        preGram = argLstSeed.pop(0)[0]\n",
    "        strOut += \" \" + preGram\n",
    "        while preGram in argDicBase:\n",
    "            strOut += \" \" + predByNGram(preGram, argDicBase)\n",
    "            lstWord = nltk.word_tokenize(strOut)\n",
    "            preGram = ' '.join(lstWord[-3+1:])                   # a_nm1_gram 갱신.\n",
    "            cnt +=1\n",
    "            if cnt > argNum:\n",
    "                break\n",
    "    return(strOut)\n",
    "lstSeed1 = lstSeed[:]\n",
    "\n",
    "genSentByNGram(lstSeed1, dicBase, 50)"
   ]
  },
  {
   "cell_type": "markdown",
   "metadata": {},
   "source": [
    "### 보완사항\n",
    "- driveMy.get()의 안정성\n",
    "- makeNGram에서 빈도수\n",
    "- 최종 요약문 생성시 seed문 선택\n",
    "- BaseDic Key Error 처리\n",
    "- makeSent()에서 stopWord 인자로 변경\n",
    "### 추가 사항\n",
    "- WordCloud\n",
    "- WebPage제작 ?\n",
    "### 품사\n",
    "- 의존명사 NNB\n",
    "- 대명사 NP\n",
    "- 감탕사(IC)\n",
    "- 보조사(JX)\n",
    "- 접속조사(JC)\n",
    "\n",
    "- 선어말어미(EP)\n",
    "\n",
    "- SF\n",
    "\n",
    "- 동사(VV)  VXV\n",
    "- 형용사(VA) VXA\n",
    "- 일반부사(MAG)\n",
    "- 접속부사(MAC)\n",
    "- 감탕\n"
   ]
  },
  {
   "cell_type": "markdown",
   "metadata": {},
   "source": [
    "## Generate Sentence By Trigram"
   ]
  },
  {
   "cell_type": "code",
   "execution_count": 13,
   "metadata": {},
   "outputs": [
    {
     "data": {
      "text/plain": [
       "' 탐사 로봇 착륙 에서 내려오 상태 점검 경로 계획 ㅂ니다 화성 탐사선 분리 모습 동영상 공개 습니다 jtbc 뉴스 제보 하기 관점 분석 뉴스 jtbc 뉴스 제보 하기 관점 분석 뉴스 jtbc 뉴스 제보 하기 관점 분석 뉴스 jtbc 뉴스 조합 찬성 백지 무진 사랑 copyright by jtbc https jtbc joins com all rights reserved 무단 전재'"
      ]
     },
     "execution_count": 13,
     "metadata": {},
     "output_type": "execute_result"
    }
   ],
   "source": [
    "def genSentByNGram(argStr, argNumWord, argLstPosStop):\n",
    "    kkma = konlpy.tag.Kkma()\n",
    "    lstSent = kkma.sentences(argStr)\n",
    "#     print(f\"{len(lstSent)}\\n{lstSent}\")\n",
    "    \n",
    "    lstPosSent = []\n",
    "    for aSent in lstSent:\n",
    "        lstPosSent.append(kkma.pos(aSent))\n",
    "#     print(f\"{len(lstPosSent)}\\n{lstPosSent}\")\n",
    "\n",
    "    lstNormSent = makeLstNormSent(lstPosSent,              # 입력\n",
    "                                  argLstPosStop,         # 제거 품사 리스트\n",
    "                                  argPos=False,            # 품사정보는 출력하지 않음\n",
    "                                  argMinLen=0,             # 최소 단어 길이\n",
    "                                  argOne=False)             # 1개의 문장으로 생성\n",
    "#     print(f\"{len(lstNormSent)}\\n{lstNormSent}\")\n",
    "    \n",
    "    lstNGram = makeNGram(lstNormSent, argNum=3)\n",
    "#     print(f\"{len(lstNGram)}\\n{lstNGram}\")\n",
    "    \n",
    "    dicBase = makeBaseDic(lstNGram)\n",
    "#     print(f\"{len(dicBase)}\\n{dicBase}\")\n",
    "    \n",
    "    lstSeed =makeLstSeed(dicBase)\n",
    "#     print(f\"{len(lstSeed)}\\n{lstSeed}\")\n",
    "    \n",
    "    cnt = 0\n",
    "    strOut = \"\"\n",
    "    while cnt < argNumWord:\n",
    "        preGram = lstSeed.pop(0)[0]\n",
    "        strOut += \" \" + preGram\n",
    "        while preGram in dicBase:\n",
    "            strOut += \" \" + predByNGram(preGram, dicBase)\n",
    "            lstWord = nltk.word_tokenize(strOut)\n",
    "            preGram = ' '.join(lstWord[-3+1:])                   # a_nm1_gram 갱신.\n",
    "            cnt +=1\n",
    "            if cnt > argNumWord:\n",
    "                break\n",
    "    return(strOut)\n",
    "\n",
    "# Trigram을 이용하여 50단어로 요약(제거 품사는 없음)\n",
    "lstPosStop=[]\n",
    "genSentByNGram(lstTextNews[0], 50, lstPosStop)"
   ]
  },
  {
   "cell_type": "markdown",
   "metadata": {},
   "source": [
    "## WordCloud"
   ]
  },
  {
   "cell_type": "code",
   "execution_count": 14,
   "metadata": {
    "scrolled": false
   },
   "outputs": [
    {
     "data": {
      "image/png": "[encoded data removed]",
      "text/plain": [
       "<Figure size 720x720 with 1 Axes>"
      ]
     },
     "metadata": {
      "needs_background": "light"
     },
     "output_type": "display_data"
    }
   ],
   "source": [
    "def makeWordCloud(argStr, argNumWord, argLstPosStopWC):\n",
    "    kkma = konlpy.tag.Kkma()\n",
    "    lstSent = kkma.sentences(argStr)\n",
    "#     print(f\"{len(lstSent)}\\n{lstSent}\")\n",
    "    \n",
    "    lstPosSent = []\n",
    "    for aSent in lstSent:\n",
    "        lstPosSent.append(kkma.pos(aSent))\n",
    "#     print(f\"{len(lstPosSent)}\\n{lstPosSent}\")\n",
    "    \n",
    "    lstNormSent = makeLstNormSent(lstPosSent,              # 입력\n",
    "                                  argLstPosStopWC,         # 제거 품사 리스트\n",
    "                                  argPos=False,            # 품사정보는 출력하지 않음\n",
    "                                  argMinLen=2,             # 최소 단어 길이\n",
    "                                  argOne=True)             # 1개의 문장으로 생성\n",
    "#     print(f\"{len(lstNormSent)}\\n{lstNormSent}\")\n",
    "\n",
    "    wc = WordCloud(font_path=\"c:/Windows/Fonts/malgun.ttf\",\n",
    "                   background_color='white',\n",
    "                   max_words=argNumWord)\n",
    "    wc.generate(lstNormSent[0])\n",
    "\n",
    "    plt.figure(figsize=(10,10))\n",
    "    plt.imshow(wc, interpolation='bilinear')\n",
    "    plt.axis(\"off\")                                    \n",
    "    plt.show()\n",
    "\n",
    "# 형태소 분석하여 불용 품사 및 2음절 이하 단어 제거하고\n",
    "# 나머지 형태소들로 1개의 문자열을 만듬(단어 수 정의)\n",
    "lstPosStopWC = [\"VX\", \"VC\", \"MD\", \"MA\", \"IC\", \"JK\", \"JX\", \"JC\", \"E\", \"X\", \"S\", \"U\"]\n",
    "makeWordCloud(lstTextNews[0], 30, lstPosStopWC)"
   ]
  },
  {
   "cell_type": "markdown",
   "metadata": {},
   "source": [
    "## RNN Generator"
   ]
  },
  {
   "cell_type": "code",
   "execution_count": 15,
   "metadata": {},
   "outputs": [],
   "source": [
    "from tensorflow.keras.preprocessing.text import Tokenizer\n",
    "from tensorflow.keras.preprocessing.sequence import pad_sequences\n",
    "from tensorflow.keras.utils import to_categorical\n",
    "from tensorflow.keras.models import Sequential\n",
    "from tensorflow.keras.layers import Embedding, Dense, SimpleRNN, LSTM\n",
    "from tensorflow.keras.optimizers import Adam\n",
    "from tensorflow.keras.callbacks import EarlyStopping\n",
    "import numpy as np\n",
    "import re"
   ]
  },
  {
   "cell_type": "code",
   "execution_count": 16,
   "metadata": {
    "scrolled": true
   },
   "outputs": [
    {
     "name": "stdout",
     "output_type": "stream",
     "text": [
      "17\n",
      "[['붉', '은', '토양', '과', '암석', '화성', '사진', '2', '장', '공개', '앵커', '화성', '착륙', '에', '도', '성공', '하', '고', '다음', '목표', '는', '목성', '이', '라면서', '우주', '탐사', '에', '속도', '를', '내', '고', '있', '는', '중국', '이', 'ㅂ니다', '.'], ['화성', '탐사', '로봇', '이', '찍', '어', '보내', 'ㄴ', '화성', '의', '모습', '들', '을', '이번', '에', '공개', '하', '었', '는데요', '.', '박지', '윤', '기자', '가', '전하', '어', '드리', 'ㅂ니다', '.'], ['기자', '흑백', '사진', '속', '에', '화성', '의', '지평선', '이', '보이', 'ㅂ니다', '.'], ['화성', '의', '거칠', 'ㄴ', '표면', '도', '느껴지', 'ㅂ니다', '.'], ['중국', '의', '화성', '탐사', '로봇', '주룽', '에', '장착', '되', 'ㄴ', '카메라', '가', '촬영', '하', 'ㄴ', '사진', '으로', '광각렌즈', '를', '사용하', '어', '지평선', '은', '곡선', '형태', '가', '되', '었', '습니다', '.'], ['또', '다른', '사진', '은', '태양광', '패널', '과', '안테나', '가', '펼쳐지', 'ㄴ', '모습', '사이', '에', '화성', '의', '붉', '은', '토양', '과', '암석', '을', '보여주', 'ㅂ니다', '.'], ['주', '룽', '의', '뒤편', '에', '달리', 'ㄴ', '카메라', '가', '찍', '은', '컬러', '사진', '이', 'ㅂ니다', '.'], ['중국', '국가', '항', '천국', '이', '어젯밤', '화성', '사진', '2', '장', '을', '처음', '공개', '하', '었', '습니다', '.'], ['이', '외', '에', '도', '화성', '탐사선', '톈', '원', '1', '호', '가', '분리', '되', '는', '모습', '등', '2', '개', '의', '동영상', '도', '공개', '하', '었', '습니다', '.'], ['중국', '의', '화성', '탐사선', '톈', '원', '1', '호', '는', '지나', 'ㄴ', '15', '일', '오전', '화성', '유토피아', '평원', '남부', '에', '착륙', '하', '었', '습니다', '.'], ['지난해', '7', '월', '로켓', '창정', '5', '호', '에', '실리', '어', '지구', '를', '떠나', 'ㄴ', '지', '10', '개월', '만', '이', 'ㅂ니다', '.'], ['이', '들', 'ㄹ', '탐사선', '과', '탐사', '로봇', '은', '앞', '으로', '3', '개월', '동안', '화성', '표면', '과', '토양', '대기', '에', '대하', 'ㄴ', '조사', '를', '하', 'ㄹ', '예정', '이', 'ㅂ니다', '.'], ['장', '룽', '차', '오', '화성', '탐사', '프로젝트', '총', '설계자', '나중', '에', '우리', '의', '화성', '탐사선', '은', '화성', '표면', '을', '순찰', '하', '고', '탐사', '하', '는', '임무', '를', '수행', '하', 'ㄹ', '것', '이', 'ㅂ니다', '.'], ['탐사', '로봇', '이', '착륙', '선', '에서', '내려오', '아', '상태', '를', '점검', '하', '고', '경로', '를', '계획', '하', 'ㅂ니다', '.'], ['미국', '과', '구소련', '에', '잇', '어', '세계', '에서', '세', '번째', '로', '화성', '착륙', '에', '성공', '하', 'ㄴ', '중국', '은', '앞', '으로', '의', '목표', '는', '목성', '이', '라고', '밝히', '었', '습니다', '.'], ['최근', '굵직', '하', 'ㄴ', '우주', '프로젝트', '를', '잇달', '아', '성공', '시키', 'ㄴ', '중국', '은', '우주', '개발', '분야', '에서', '미국', '과', '함께', '초', '강대국', '의', '반열', '에', '오르', '았', '습니다', '.'], ['박지', '윤', '기자', 'park', '.', 'jiyoon', 'jtbc', '.', 'co', '.', 'kr', '영상', '편집', '홍', '여울', '시청자', '와', '함께', '!', 'jtbc', '뉴스', '제보', '하기', '관점', '과', '분석', '이', '있', '는', '뉴스', 'jtbc', '뉴스', '룸', '이', '조합', '찬성', '!', '백지', '영', 'x', '이', '무진', '사랑', '안', '해', 'copyright', 'by', 'jtbc', 'https', 'jtbc', '.', 'joins', '.', 'com', 'all', 'rights', 'reserved', '.', '무단', '전재', '및', '재', '배포', '금지']]\n"
     ]
    }
   ],
   "source": [
    "def makeCorpus(argLstSent):\n",
    "    lstCorpus = []\n",
    "    for aSent in argLstSent:\n",
    "        aSent = aSent.split()\n",
    "        lstCorpus.append(aSent)\n",
    "    return lstCorpus\n",
    "\n",
    "corpusRaw = makeCorpus(lstNormSent)\n",
    "print(f\"{len(corpusRaw)}\\n{corpusRaw}\")"
   ]
  },
  {
   "cell_type": "code",
   "execution_count": 17,
   "metadata": {
    "scrolled": true
   },
   "outputs": [
    {
     "name": "stdout",
     "output_type": "stream",
     "text": [
      "64\n"
     ]
    }
   ],
   "source": [
    "def getLenMaxSent(argLstStr):\n",
    "    lenMax = 0\n",
    "    for aStr in argLstStr:\n",
    "        lenSent = len(aStr.split())\n",
    "        if lenMax < lenSent: \n",
    "            lenMax = lenSent\n",
    "    return lenMax\n",
    "\n",
    "lenMaxSent = getLenMaxSent(lstNormSent)\n",
    "print(lenMaxSent)"
   ]
  },
  {
   "cell_type": "code",
   "execution_count": 18,
   "metadata": {},
   "outputs": [
    {
     "name": "stdout",
     "output_type": "stream",
     "text": [
      "sizeVocab : 205\n"
     ]
    }
   ],
   "source": [
    "# Corpus로 만든 사전 크기 확인.\n",
    "tokenizerMy = Tokenizer()\n",
    "tokenizerMy.fit_on_texts(corpusRaw)\n",
    "sizeVocab = len(tokenizerMy.word_index)\n",
    "print(f\"sizeVocab : {sizeVocab}\")\n",
    "\n",
    "# padding포함한 단어로 tokenize\n",
    "tokenizerMy = Tokenizer(num_words=sizeVocab+1) \n",
    "tokenizerMy.fit_on_texts(corpusRaw)\n",
    "    \n",
    "# Encoded corpus 만들기\n",
    "corpusEncoded = tokenizerMy.texts_to_sequences(corpusRaw)\n",
    "# print(corpusEncoded)"
   ]
  },
  {
   "cell_type": "code",
   "execution_count": 19,
   "metadata": {},
   "outputs": [
    {
     "name": "stdout",
     "output_type": "stream",
     "text": [
      "[[  0   0   0 ...   0   0  42]\n",
      " [  0   0   0 ...   0  42   9]\n",
      " [  0   0   0 ...  42   9  28]\n",
      " ...\n",
      " [  0   0  49 ... 200 201 202]\n",
      " [  0  49  50 ... 201 202 203]\n",
      " [ 49  50  34 ... 202 203 204]]\n",
      "[[0. 0. 0. ... 0. 0. 0.]\n",
      " [0. 0. 0. ... 0. 0. 0.]\n",
      " [0. 0. 0. ... 0. 0. 0.]\n",
      " ...\n",
      " [0. 0. 0. ... 1. 0. 0.]\n",
      " [0. 0. 0. ... 0. 1. 0.]\n",
      " [0. 0. 0. ... 0. 0. 1.]]\n"
     ]
    }
   ],
   "source": [
    "def makeTrainData(argCorpusEncoded, argLenMaxSent):\n",
    "        # 학습용 문장 데이터를 만든다.\n",
    "    trainDataEncoded = []\n",
    "    for aSentEncoded in argCorpusEncoded:\n",
    "        for ith in range(2, len(aSentEncoded)+1):\n",
    "            aSequence = aSentEncoded[:ith]\n",
    "            trainDataEncoded.append(aSequence)\n",
    "            \n",
    "    trainDataEncodedPad = pad_sequences(trainDataEncoded,\n",
    "                                        maxlen=argLenMaxSent,\n",
    "                                        padding='pre')\n",
    "    # X와 Y로 쪼갠다.\n",
    "    XTrain    = trainDataEncodedPad[:,:-1]      # 끝에서 두번째 컬럼까지.\n",
    "    YTrainRaw = trainDataEncodedPad[:, -1]      # 마지막 컬럼.\n",
    "    \n",
    "    return XTrain, YTrainRaw\n",
    "\n",
    "XTrain, YTrainRaw = makeTrainData(corpusEncoded, lenMaxSent)\n",
    "print(XTrain)\n",
    "\n",
    "# YTrain을 one-hot encoding 해둔다.\n",
    "YTrain = to_categorical(YTrainRaw, num_classes=sizeVocab + 1)\n",
    "print(YTrain)\n"
   ]
  },
  {
   "cell_type": "code",
   "execution_count": 20,
   "metadata": {
    "scrolled": true
   },
   "outputs": [],
   "source": [
    "def makeRnnModel(argXTrain, argYTrain, argNumWords, argEpochs):\n",
    "    # Model 생성\n",
    "    numWords = argNumWords + 1\n",
    "    numEmb = 10                                  # Embedding 차원수.\n",
    "    numHidden = 128                              # 메모리셀의 노드수.\n",
    "    modelRNN = Sequential()\n",
    "    modelRNN.add(Embedding(numWords, numEmb))\n",
    "    modelRNN.add(SimpleRNN(units=numHidden,\n",
    "                           return_sequences=False))# Sequence To Vector.\n",
    "    modelRNN.add(Dense(units=numWords, activation='softmax'))\n",
    "\n",
    "    # Optimizer 객체 생성 후 컴파일한다.\n",
    "    rateLearn = 0.001   # Hyper Parameter 설정\n",
    "    optMy = Adam(lr=rateLearn)\n",
    "    modelRNN.compile(loss='categorical_crossentropy',\n",
    "                     optimizer=optMy,\n",
    "                     metrics=['accuracy'])\n",
    "    \n",
    "    # 학습.\n",
    "    eStopMy = EarlyStopping(monitor='loss',\n",
    "                            mode='min',\n",
    "                            patience=5,\n",
    "                            verbose=1)          # 조기 종료 허락!\n",
    "    \n",
    "    smryMy = modelRNN.fit(argXTrain,\n",
    "                          argYTrain,\n",
    "                          epochs=argEpochs,\n",
    "                          verbose=0,\n",
    "                          callbacks=[eStopMy])\n",
    "        \n",
    "    return modelRNN\n",
    "\n",
    "modelRNN = makeRnnModel(XTrain, YTrain, sizeVocab, argEpochs=30)    "
   ]
  },
  {
   "cell_type": "code",
   "execution_count": 21,
   "metadata": {},
   "outputs": [
    {
     "data": {
      "text/plain": [
       "['온도가', '낮을', '수록']"
      ]
     },
     "execution_count": 21,
     "metadata": {},
     "output_type": "execute_result"
    }
   ],
   "source": [
    "strTmp = \"온도가 낮을 수록\"\n",
    "strTmp.split()"
   ]
  },
  {
   "cell_type": "code",
   "execution_count": 22,
   "metadata": {
    "scrolled": true
   },
   "outputs": [
    {
     "data": {
      "text/plain": [
       "'탐사 로봇 뒤편 에 어 에서 ㄴ 화성 를 를 하 ㄹ 세 이 을 ㅂ니다 . 화성 탐사선 rights reserved . jtbc 뉴스 오 습니다 . 목표 목성 고 표면 금지 중국 이 ㅂ니다 . 박지 기자 기자 kr 처음 하기 로 여울 것 이 ㅂ니다 . 중국 화성 지평선 영상 토양 조합 여울 찬성 분야 되 . 착륙 성공 를 표면 하 조합 . 토양 암석 었 습니다 . 화성 사진 속 남부 와 어 개월 었 습니다 . 화성 탐사 및 홍 여울 시청자 와 https ! 화성 표면 뉴스 화성 1 과 분석 표면 ㅂ니다 . 10 개월 화성 룸 관점 동영상 만 와 되 외 ㅂ니다 . 15 오전 붉 홍 7 시청자 와 최근 보여주 ㅂ니다 . all rights 탐사선 홍 등'"
      ]
     },
     "execution_count": 22,
     "metadata": {},
     "output_type": "execute_result"
    }
   ],
   "source": [
    "# 확률적으로 다음 단어를 예측해 주는 헬퍼 함수.\n",
    "def stochasticPrediction(argPreds, argTemperature=1.0):\n",
    "    predsMy = np.array(argPreds).astype('float64')\n",
    "    # \"온도\"가 낮을수록 확정적, 높을수록 확률적이 된다.\n",
    "    predsMy = np.log(predsMy)/ argTemperature\n",
    "    predsExp = np.exp(predsMy)\n",
    "    predsMy = predsExp/np.sum(predsExp)\n",
    "    # 1회 1개의 랜덤 표본만 추출한다.\n",
    "    probabilities = np.random.multinomial(n=1, pvals=predsMy, size=1)\n",
    "    return np.argmax(probabilities)\n",
    "\n",
    "# 예측을 위한 헬퍼 함수 버전 2.\n",
    "def makeSentRnn(argModel, argToken, argLstSeed, argLenMaxSent, argNumSeq, temperature=1.0): \n",
    "#     print(argToken.word_index)\n",
    "    cnt=0\n",
    "    strOut = argLstSeed.pop(0)[0]\n",
    "    \n",
    "    while cnt < argNumSeq:        \n",
    "        # 완성되가는 문장의 인터저 인코딩.\n",
    "#         print(strOut)\n",
    "#         encoded = argToken.texts_to_sequences([strOut])[0]\n",
    "        encoded = []\n",
    "        for x in strOut.split():\n",
    "            encoded.append(argToken.word_index[x])\n",
    "#         print(encoded)\n",
    "        \n",
    "        # Padding을 적용해서 X_test를 만든다.\n",
    "        XTest = pad_sequences([encoded], maxlen=argLenMaxSent-1, padding='pre')\n",
    "#         print(XTest)\n",
    "        \n",
    "        # softmax를 통해서 출력된 예측은 일종의 \"multinomial\" 확률이다.\n",
    "        my_preds = argModel.predict(XTest)\n",
    "        \n",
    "        # 다음 단어의 인덱스를 예측한다.\n",
    "        idx = stochasticPrediction(my_preds[0], temperature)\n",
    "#         print(f\"idx : {idx}\")\n",
    "        \n",
    "        # 예측된 인덱스를 실제 단어로 변환.\n",
    "        wordPred = argToken.index_word[idx]\n",
    "#         print(wordPred)\n",
    "\n",
    "        if wordPred not in [\".\",  \"?\", \"!\", \".-sf\", \"?-sf\", \"!-sf\"]:\n",
    "            # 예측된 단어를 결과 문장에 이어 붙인다.\n",
    "            strOut += \" \"  + wordPred\n",
    "        else:\n",
    "            strOut += \" \" + wordPred + \" \" + argLstSeed.pop(0)[0]\n",
    "        \n",
    "        cnt += 1\n",
    "        \n",
    "    return strOut\n",
    "\n",
    "\n",
    "lstSeed01 = lstSeed[:]\n",
    "#lstSeed01 = [('법사 위원장', ['문제']), ('상임 위원장', ['모두', '문제', '배분', '자리', '재배']), ('위원장 문제', ['관련', '마무리', '언급', '특히']), ('인사 청문회', ['뇌관', '물론', '부터', '진행']), ('권한 대행', ['원내', '이날', '특히']), ('대표 대행', ['반도체', '호중', '후보자']), ('서울 경제', ['기현', '무단', '폴리']), ('위원장 자리', ['배분', '야당', '요구']), ('공장 방문', ['ㄴ다는', '예정']), ('국회 에서', ['가지', '기자']), ('논의 난항', ['기현', '으로']), ('다음 절차', ['진행', '진행하']), ('대표 16', ['법사', '서울']), ('민주당 의원', ['위원장', '총회']), ('부동 산세', ['법안', '완화']), ('손실 보상법', ['부동', '입법']), ('원내 대표', ['16', '지나']) ]\n",
    "makeSentRnn(modelRNN,\n",
    "            tokenizerMy,\n",
    "            lstSeed01,\n",
    "            lenMaxSent,\n",
    "            100,\n",
    "            temperature=0.5)"
   ]
  },
  {
   "cell_type": "markdown",
   "metadata": {},
   "source": [
    "#### 1. RNN With Normal/Ending"
   ]
  },
  {
   "cell_type": "code",
   "execution_count": 23,
   "metadata": {
    "scrolled": true
   },
   "outputs": [
    {
     "name": "stdout",
     "output_type": "stream",
     "text": [
      "17\n",
      "['. 붉은 토양과 암석 화성 사진 2 장 공개 앵커 화성 착륙에도 성공하고 다음 목표는 목성이라면서 우주 탐사에 속도를 내고 있는 중국입니다.', '. 화성 탐사 로봇이 찍어 보낸 화성의 모습들을 이번에 공개했는데요. 박지 윤 기자가 전해 드립니다.', '. 기자 흑백 사진 속에 화성의 지평선이 보입니다.', '. 화성의 거친 표면도 느껴집니다.', '. 중국의 화성 탐사 로봇 주룽에 장착된 카메라가 촬영한 사진으로 광각렌즈를 사용해 지평선은 곡선 형태가 됐습니다.', '. 또 다른 사진은 태양광 패널과 안테나가 펼쳐진 모습 사이에 화성의 붉은 토양과 암석을 보여줍니다.', '. 주 룽의 뒤편에 달린 카메라가 찍은 컬러 사진입니다.', '. 중국 국가 항 천국이 어젯밤 화성 사진 2 장을 처음 공개했습니다.', '. 이 외에도 화성 탐사선 톈 원 1호가 분리되는 모습 등 2개의 동영상도 공개했습니다.', '. 중국의 화성 탐사선 톈 원 1호는 지난 15일 오전 화성 유토피아 평원 남부에 착륙했습니다.', '. 지난해 7 월 로켓 창정 5호에 실려 지구를 떠난 지 10개월 만입니다.', '. 이 들 탐사선과 탐사 로봇은 앞으로 3개월 동안 화성 표면과 토양 대기에 대한 조사를 할 예정입니다.', '. 장 룽 차 오 화성 탐사 프로젝트 총 설계자 나중에 우리의 화성 탐사선은 화성 표면을 순찰하고 탐사하는 임무를 수행할 것입니다.', '. 탐사 로봇이 착륙 선에서 내려와 상태를 점검하고 경로를 계획합니다.', '. 미국과 구소련에 이어 세계에서 세 번째로 화성 착륙에 성공한 중국은 앞으로의 목표는 목성이라고 밝혔습니다.', '. 최근 굵직한 우주 프로젝트를 잇달아 성공시킨 중국은 우주 개발 분야에서 미국과 함께 초강대국의 반열에 올랐습니다.', '. 박지 윤 기자 park.jiyoon jtbc.co .kr 영상 편집 홍 여울 시청자와 함께! jtbc 뉴스 제보 하기 관점과 분석이 있는 뉴스 jtbc 뉴스 룸 이 조합 찬성! 백지 영 x이 무진 사랑 안 해 copyright by jtbc https jtbc.joins .com all rights reserved. 무단 전재 및 재배포 금지']\n"
     ]
    }
   ],
   "source": [
    "def addClosingToSent(argLstSent):\n",
    "    lstSentAddClosing = []\n",
    "    endingPre = \". \"\n",
    "    for aSent in argLstSent:\n",
    "        aSent = endingPre + aSent\n",
    "        lstSentAddClosing.append(aSent)\n",
    "        \n",
    "        ending = aSent.split()[-1][-1]\n",
    "        if ending in [\".\", \"!\", \"?\"]:\n",
    "            endingPre = ending + \" \"\n",
    "    return lstSentAddClosing\n",
    "\n",
    "lstSentAddClosing = addClosingToSent(lstSent)\n",
    "print(f\"{len(lstSentAddClosing)}\\n{lstSentAddClosing}\")\n"
   ]
  },
  {
   "cell_type": "code",
   "execution_count": 24,
   "metadata": {
    "scrolled": true
   },
   "outputs": [
    {
     "name": "stdout",
     "output_type": "stream",
     "text": [
      "lenMaxSent : 64\n",
      "sizeVocab : 205\n"
     ]
    },
    {
     "data": {
      "text/plain": [
       "'탐사 로봇 이 찍 선 보내 내려오 화성 의 과 이 하 ㄴ 는 으로 jtbc 뉴스 jtbc 아 호 jtbc 개월 joins . 화성 탐사선 rights jtbc . jtbc 뉴스 및 재 편집 금지 여울 시청자 와 함께 ! 목표 목성 제보 하기 관점 과 분석 이 있 는 뉴스 jtbc 뉴스 룸 이 조합 찬성 ! 박지 기자 x 이 무진 사랑 안 해 copyright by jtbc https jtbc . 중국 화성 com co . 착륙 성공 편집 홍 여울 시청자 와 함께 ! 토양 암석 제보 하기 관점 과 분석 이 있 는 뉴스 jtbc 뉴스 룸 이 조합 찬성 ! 화성 사진 x 이 무진 사랑 안 해 copyright by jtbc https jtbc . 화성 탐사'"
      ]
     },
     "execution_count": 24,
     "metadata": {},
     "output_type": "execute_result"
    }
   ],
   "source": [
    "def genSentByRnn(argStr, argLstPosStop, argType=\"Norm\", argEpochs=100):\n",
    "\n",
    "#     print(argStr)\n",
    "    kkma = konlpy.tag.Kkma()\n",
    "    lstSent = kkma.sentences(argStr)\n",
    "    \n",
    "    if argType==\"Ending\":\n",
    "        lstSent = addClosingToSent(lstSent)\n",
    "        \n",
    "#     print(f\"{len(lstSent)}\\n{lstSent}\")\n",
    "        \n",
    "    lstPosSent = []\n",
    "    for aSent in lstSent:\n",
    "        lstPosSent.append(kkma.pos(aSent))\n",
    "#     print(f\"{len(lstPosSent)}\\n{lstPosSent}\")\n",
    "\n",
    "    lstNormSent = makeLstNormSent(lstPosSent,            # 입력\n",
    "                                  argLstPosStop,         # 제거 품사 리스트\n",
    "                                  argPos=False,          # 품사정보는 출력하지 않음\n",
    "                                  argMinLen=0,           # 최소 단어 길이\n",
    "                                  argOne=False)           # 1개의 문장으로 생성\n",
    "#     print(f\"{len(lstNormSent)}\\n{lstNormSent}\")\n",
    "\n",
    "    lstNGram = makeNGram(lstNormSent, argNum=3)\n",
    "#     print(f\"{len(lstNGram)}\\n{lstNGram}\")    \n",
    "    dicBase = makeBaseDic(lstNGram)\n",
    "#     print(f\"{len(dicBase)}\\n{dicBase}\")\n",
    "    lstSeed =makeLstSeed(dicBase)\n",
    "#     print(f\"{len(lstSeed)}\\n{lstSeed[:10]}\")\n",
    "\n",
    "    corpusRaw = makeCorpus(lstNormSent)\n",
    "#     print(f\"{len(corpusRaw)}\\n{corpusRaw}\")\n",
    "\n",
    "    lenMaxSent = getLenMaxSent(lstNormSent)\n",
    "    print(f\"lenMaxSent : {lenMaxSent}\")\n",
    "\n",
    "    tokenizerMy = Tokenizer()\n",
    "    tokenizerMy.fit_on_texts(corpusRaw)\n",
    "    sizeVocab = len(tokenizerMy.word_index)\n",
    "    print(f\"sizeVocab : {sizeVocab}\")\n",
    "\n",
    "    tokenizerMy = Tokenizer(num_words=sizeVocab+1) \n",
    "    tokenizerMy.fit_on_texts(corpusRaw)\n",
    "#     print(tokenizerMy.word_index)\n",
    "    \n",
    "    corpusEncoded = tokenizerMy.texts_to_sequences(corpusRaw)\n",
    "#     print(corpusEncoded)\n",
    "\n",
    "    XTrain, YTrainRaw = makeTrainData(corpusEncoded, lenMaxSent)\n",
    "    YTrain = to_categorical(YTrainRaw, num_classes=sizeVocab + 1)\n",
    "\n",
    "    modelRNN = makeRnnModel(XTrain, YTrain, sizeVocab, argEpochs=argEpochs)\n",
    "\n",
    "#     lstSeed = [('법사 위원장', ['문제']), ('상임 위원장', ['모두', '문제', '배분', '자리', '재배']), ('위원장 문제', ['관련', '마무리', '언급', '특히']), ('인사 청문회', ['뇌관', '물론', '부터', '진행']), ('권한 대행', ['원내', '이날', '특히']), ('대표 대행', ['반도체', '호중', '후보자']), ('서울 경제', ['기현', '무단', '폴리']), ('위원장 자리', ['배분', '야당', '요구']), ('공장 방문', ['ㄴ다는', '예정']), ('국회 에서', ['가지', '기자']), ('논의 난항', ['기현', '으로']), ('다음 절차', ['진행', '진행하']), ('대표 16', ['법사', '서울']), ('민주당 의원', ['위원장', '총회']), ('부동 산세', ['법안', '완화']), ('손실 보상법', ['부동', '입법']), ('원내 대표', ['16', '지나']) ]\n",
    "\n",
    "    strRes = makeSentRnn(modelRNN,\n",
    "                         tokenizerMy,\n",
    "                         lstSeed,\n",
    "                         lenMaxSent,\n",
    "                         100,\n",
    "                         temperature=0.1)\n",
    "    return strRes\n",
    "\n",
    "lstPosStop=[]\n",
    "genSentByRnn(lstTextNews[0], lstPosStop, argType=\"Norm\", argEpochs=50)"
   ]
  },
  {
   "cell_type": "markdown",
   "metadata": {},
   "source": [
    "#### 2. RNN with POS"
   ]
  },
  {
   "cell_type": "code",
   "execution_count": 25,
   "metadata": {},
   "outputs": [],
   "source": [
    "def makeNGramWithPos(argLstSent, argNum=3):\n",
    "    vectMy = CountVectorizer(ngram_range=(argNum, argNum),\n",
    "                             token_pattern=r\"(?u)\\b\\w\\w+-\\w+\\b\",\n",
    "                             analyzer=\"word\")\n",
    "    lstNGram = vectMy.fit(argLstSent).get_feature_names()\n",
    "    # ar2NGramCnt = vectMy.transform(argLstSent).toarray()  # 결과는 array of array.\n",
    "    # lstNGramCnt = list(ar2NGramCnt[0])                    # 단순한 리스트로 변환.\n",
    "    return(lstNGram)"
   ]
  },
  {
   "cell_type": "code",
   "execution_count": 26,
   "metadata": {},
   "outputs": [
    {
     "name": "stdout",
     "output_type": "stream",
     "text": [
      "코로나 19 확산 세가 지속 하 면서 전국 곳곳 에서 확 진자 가 잇따르 고 있 다 . 이 지나 ㄴ 명 이 코로나 19 확 진 판정 을 받 았 다 . 이 지나 1 명 이 확 진 되 었 다 . 이 확 진자 가 발생 하 ㄴ 건물 전체 를 소독 하 었 고 해당 건물 에서 근무 하 는 직원 전원 을 대상 으로 진단 검사 를 진행하 었 다 . 이 확 진 되 었 다 . 이 대학생 1 명 등 되 었 명 이 확 진자 되 었 다 . 확 진자 1 명\n"
     ]
    }
   ],
   "source": [
    "#custom dictionary\n",
    "strSent = \"코로나-nng 19-nr 확산-nng 세가-nng 지속-nng 하-xsv 면서-ece 전국-nng \\\n",
    "곳곳-nng 에서-jkm 확-mag 진자-nng 가-jks 잇따르-vv 고-ece 있-vxv 다-efn .-sf 이-jks \\\n",
    "지나-vv ㄴ-etd 명-nnm 이-jks 코로나-nng 19-nr 확-mag 진-nng 판정-nng 을-jko 받-vv \\\n",
    "았-ept 다-efn .-sf 이-jks 지나-vv 1-nr 명-nnm 이-jks 확-mag 진-nng 되-xsv 었-ept \\\n",
    "다-efn .-sf 이-jks 확-mag 진자-nng 가-jks 발생-nng 하-xsv ㄴ-etd 건물-nng 전체-nng \\\n",
    "를-jko 소독-nng 하-xsv 었-ept 고-ece 해당-nng 건물-nng 에서-jkm 근무-nng 하-xsv \\\n",
    "는-etd 직원-nng 전원-nng 을-jko 대상-nng 으로-jkm 진단-nng 검사-nng 를-jko \\\n",
    "진행하-vv 었-ept 다-efn .-sf 이-jks 확-mag 진-nng 되-xsv 었-ept 다-efn .-sf \\\n",
    "이-jks 대학생-nng 1-nr 명-nnm 등-nnb 되-xsv 었-ept 명-nnm 이-jks 확-mag 진자-nng \\\n",
    "되-xsv 었-ept 다-efn .-sf 확-mag 진자-nng 1-nr 명-nnm\"\n",
    "\n",
    "def constNormSent(argStr):\n",
    "    lstRet = []\n",
    "    for elm in argStr.split(\" \"):\n",
    "        lstRet.append(elm.split(\"-\")[0])\n",
    "    return \" \".join(lstRet)\n",
    "\n",
    "print(constNormSent(strSent))    "
   ]
  },
  {
   "cell_type": "code",
   "execution_count": 27,
   "metadata": {
    "scrolled": true
   },
   "outputs": [
    {
     "name": "stdout",
     "output_type": "stream",
     "text": [
      "lenMaxSent : 64\n",
      "sizeVocab : 219\n"
     ]
    },
    {
     "data": {
      "text/plain": [
       "'탐사 로봇 이 착륙 선 에서 내려오 아 상태 를 점검 하 고 경로 를 계획 하 ㅂ니다 . 화성 탐사선 를 수행 com 시청자 와 함께 ! 목표 목성 제보 이 관점 에 도 하 었 었 . 박지 기자 기자 가 전하 어 드리 ㅂ니다 . 중국 화성 설계자 남부 전하 어 에 속도 뉴스 조사 하기 하 ㄹ 예정 이 ㅂ니다 . 착륙 성공 설계자 가 에 우리 의 화성 탐사선 은 화성 표면 을 순찰 하 고 탐사 하 는 임무 를 수행 하 ㄹ 것 이 ㅂ니다 . 토양 암석 화성 유토피아 평원 어 에 공개 ㅂ니다 었 의 목표 는 가 이 가 . 화성 사진 편집 이 내 지'"
      ]
     },
     "execution_count": 27,
     "metadata": {},
     "output_type": "execute_result"
    }
   ],
   "source": [
    "def enhancedSeed(argLstSeed):\n",
    "    lstResult = []\n",
    "    for elm in argLstSeed:\n",
    "        strSeed = elm[0]\n",
    "        lstTmp = strSeed.split()\n",
    "        if(    re.search(\"^nn\", lstTmp[0].split('-')[1])\n",
    "            and re.search(\"^nn\", lstTmp[1].split('-')[1]) ):\n",
    "            lstResult.append(elm)\n",
    "    return lstResult\n",
    "\n",
    "def genSentByRnnWithPos(argStr, argLstPosStop, argEpochs=100):\n",
    "\n",
    "#     print(argStr)\n",
    "    kkma = konlpy.tag.Kkma()\n",
    "    lstSent = kkma.sentences(argStr)\n",
    "#     print(f\"{len(lstSent)}\\n{lstSent}\")\n",
    "        \n",
    "    lstPosSent = []\n",
    "    for aSent in lstSent:\n",
    "        lstPosSent.append(kkma.pos(aSent))\n",
    "#     print(f\"{len(lstPosSent)}\\n{lstPosSent}\")\n",
    "\n",
    "    lstNormSent = makeLstNormSent(lstPosSent,            # 입력\n",
    "                                  argLstPosStop,         # 제거 품사 리스트\n",
    "                                  argPos=True,          # 품사정보는 출력하지 않음\n",
    "                                  argMinLen=0,           # 최소 단어 길이\n",
    "                                  argOne=False)           # 1개의 문장으로 생성\n",
    "#     print(f\"{len(lstNormSent)}\\n{lstNormSent}\")\n",
    "\n",
    "    lstNGram = makeNGramWithPos(lstNormSent)\n",
    "#     print(f\"{len(lstNGram)}\\n{lstNGram}\")    \n",
    "    dicBase = makeBaseDic(lstNGram)\n",
    "#     print(f\"{len(dicBase)}\\n{dicBase}\")\n",
    "    lstSeed =makeLstSeed(dicBase)\n",
    "#     print(f\"{len(lstSeed)}\\n{lstSeed[:10]}\")\n",
    "    \n",
    "    \n",
    "    lstSeed = enhancedSeed(lstSeed)\n",
    "#     print(f\"{len(lstSeed)}\\n{lstSeed[:10]}\")\n",
    "    \n",
    "\n",
    "    corpusRaw = makeCorpus(lstNormSent)\n",
    "    lenMaxSent = getLenMaxSent(lstNormSent)\n",
    "    print(f\"lenMaxSent : {lenMaxSent}\")\n",
    "    \n",
    "    tokenizerMy = Tokenizer()\n",
    "    tokenizerMy.fit_on_texts(corpusRaw)\n",
    "    sizeVocab = len(tokenizerMy.word_index)\n",
    "    print(f\"sizeVocab : {sizeVocab}\")\n",
    "\n",
    "    tokenizerMy = Tokenizer(num_words=sizeVocab+1) \n",
    "    tokenizerMy.fit_on_texts(corpusRaw)\n",
    "#     print(tokenizerMy.word_index)\n",
    "    \n",
    "    corpusEncoded = tokenizerMy.texts_to_sequences(corpusRaw)\n",
    "#     print(corpusEncoded)\n",
    "\n",
    "    XTrain, YTrainRaw = makeTrainData(corpusEncoded, lenMaxSent)\n",
    "    YTrain = to_categorical(YTrainRaw, num_classes=sizeVocab + 1)\n",
    "#     print(XTrain[:10])\n",
    "\n",
    "    modelRNN = makeRnnModel(XTrain, YTrain, sizeVocab, argEpochs=argEpochs)\n",
    "\n",
    "    strRes = makeSentRnn(modelRNN,\n",
    "                         tokenizerMy,\n",
    "                         lstSeed,\n",
    "                         lenMaxSent,\n",
    "                         100,\n",
    "                         temperature=0.1)\n",
    "    strRes = constNormSent(strRes)\n",
    "    \n",
    "    return strRes\n",
    "    \n",
    "\n",
    "lstPosStop=[]\n",
    "strResult = genSentByRnnWithPos(lstTextNews[0], lstPosStop, argEpochs=50)\n",
    "strResult"
   ]
  },
  {
   "cell_type": "markdown",
   "metadata": {},
   "source": [
    "#### 3. Testing"
   ]
  },
  {
   "cell_type": "code",
   "execution_count": 28,
   "metadata": {
    "scrolled": false
   },
   "outputs": [
    {
     "name": "stdout",
     "output_type": "stream",
     "text": [
      "\n",
      "========== Normal Sentence =====================================================\n",
      " 허윤정의 의료세상 1억6400만 명이 감염되고 34만5000여 명이 사망한 코로나의 끝은 어디일까? 전문가들은 코로나19 종식은 불가능하다고 예측한다. 인류는 코로나와 공존하는 엔데믹 endemic 시대를 살아가는 지혜를 터득해야 한다. 마스크를 벗고 자유롭게 외출하고 친구를 만나고 해외여행을 갈 수 있을까? 집단면역에 도달하면 가능해질까? 국민의 일정 수준 이상이 면역력을 가지면 집단면역에 도달한다. 이는 코로나 감염과 백신 접종 두 가지 방법으로 가능하다. 역설적으로 코로나19 감염률이 높고 일찍 백신을 확보한 미국 영국 이스라엘 같은 국가는 집단면역 가능성이 높다. 이미 면역력을 가진 사람 비율이 높고 감염 위험으로 백신 접종의 수용성이 높기 때문이다. 집단면역 달성을 위해 사용할 수 있는 정책은 백신의 접종률을 높이는 길 뿐이다. 백신 이상 반응이 잘못 알려져 접종에 부정적인 인식이 접종 기피로 이어지지 않도록 백신 보도에 균형이 필요하다. 한국에서 백신 접종 후 신고 된 이상 반응 비율은 0.2 에 수준이며 90 가 경미한 이상 반응이다. 아나필락시스를 비롯한 중중 이상이 생겼을 때 부적절한 현장 대응으로 문제가 된 경우도 거의 없다. 희귀혈전증의 경우도 외국에서는 100백만 명 가운데 5명이 발생하고 있지만 한국에서는 코로나 백신과 직접 연관된 혈전증 사례조차 없다. 백신을 접종했을 때 이득이 이상 반응과 비교할 수 없을 만큼 크다고 전문가들은 조언한다. 코로나19 전체 환자 중 60세 이상은 27 인데 코로나19 사망자의 95 가 60대 이상이다. 감염되면 100명 중 5명이 사망할 만큼 치명률이 높아 60대 이상은 백신접종이 중요하다. 60대 이상에게 접종한 결과 접종 2주 후부터 89.5 이상의 감염예방효과가 확인됐고 치명률을 낮추는 사망예방효과는 100 로 나타났다. 18일 정부가 집계한 70 74세 백신 예약률은 61 65 69세는 53 로 증가 추세로 긍정적이다. 60대 이상 연령층이 빠짐없이 백신을 접종한다면 중증 환자와 사망자가 줄어들게 돼 방역 수준의 조정도 기대할 수 있다. 코로나19 환자가 상대적으로 적고 백신이 충분히 확보된 홍콩에서 16세 이상 모든 성인의 백신 접종인프라 구축에도 불구하고 접종 두 달 후 1차 접종률이 15 수준에 불과한 것은 정부에 대한 신뢰와 협조가 낮기 때문으로 보인다. 정부에 대한 신뢰는 집단면역 달성의 필요조건이다. 코로나19 백신 접종 후에 중증 이상 반응에도 근거가 충분하지 못해 보상받지 못했던 중증 환자를 안심하게 하는 소식이 있다. 백신 부작용을 의심하며 치료받는 환자에게 1000만 원의 의료비 지원과 소급 적용도 가능하다. 정부는 백신에 대해 국민과 더 적극적 의사소통을 해야 한다. 백신 부작용 정보를 투명하게 공개하고 인과 관계 확인이 어려운 이상반응자의 지원도 지속해야 한다. 백신 접종 후 사망 보도의 속도 경쟁으로 왜곡된 일부 언론의 행태는 백신 접종률을 낮추는 결과로 나타날 수 있어 언론 스스로의 자율규제도 필요하다. 의사 출신의 정치인이 아스트라제네카 백신 접종자는 괌을 여행할 수 없다 고 발언했고 정부는 근거가 없다고 반론하면서 백신 접종에 불신과 혼란이 가중되는 사건이 벌어지기도 했다. 현재 괌의 규정은 미국 fda 승인을 받은 백신에 대해서만 자가 격리를 면제하기 때문에 야당 정치인의 발언 의도가 틀렸다고만 할 수는 없다. 그러나 의료인의 이 같은 발언은 코로나로 여행길이 막힌 사람들을 자극하고 특정백신의 기피가 백신 불신을 가중시킬 우려가 있어 신중해야 한다. 정부는 이 같은 의혹이 확대 재생산되지 않도록 선제적으로 다양한 가능성에 대해 알리며 이해를 구하는 홍보 방안을 마련해야 한다. 코로나19 이후 불안증과 우울증 유병률이 2배 이상 높아졌다는 oecd 보고서에서 한국은 우울감을 느끼거나 우울증이 있는 비중이 36.8 로 조사 대상 15개국 가운데 가장 높게 나타났다. 코로나19로 경제적 어려움 실업 등 정신건강을 위협하는 요인은 늘어나고 사회적인 교류나 일자리 교육 운동과 같은 일상은 사라졌기 때문이다. 일상으로의 회복이 코로나 블루의 근본적 대안이지만 단기간에 이루기 어렵다. 인류는 코로나의 종식을 꿈꾸고 있지만 예견되는 미래는 코로나와의 불편한 공존이다. 엔데믹 시대 우선순위 과제는 집단면역의 우산을 만드는 일이다. 백신 접종률을 높여 집단면역에 도달하려면 신뢰와 투명성이 견고해지도록 정부 언론 의료계 정당이 협력하고 연대해야 한다. 그래야 공동체 전체가 안전한 우산을 펼칠 수 있다. 국민의 생명과 안전보다 더 소중한 가치는 없다. 에디터 코메디닷컴 kormedimd kormedi.com 코메디닷컴 바로가기 베닥 질환별 최고의 의사 알고싶다면? 저작권 건강을 위한 정직한 지식 코메디닷컴 kormedi.com 무단전재 재배포 금지\n"
     ]
    },
    {
     "data": {
      "image/png": "[encoded data removed]",
      "text/plain": [
       "<Figure size 720x720 with 1 Axes>"
      ]
     },
     "metadata": {
      "needs_background": "light"
     },
     "output_type": "display_data"
    },
    {
     "name": "stdout",
     "output_type": "stream",
     "text": [
      "\n",
      "========== Generated by Trigram ================================================\n",
      " 백신 접종 ㄴ다면 중증 환자 사망자 줄어들 방역 수준 조정 기대 코로나 19 자가 상대적 으로 백신 접종 여행 발언 정부 근거 없다 반론 면서 백신 접종 중요 이상 반응 자의 지원 지속 어야 ㄴ다 집단 면역 가능성 60 이상 에게 접종 결과 접종 부터 89 이상 감염 예방 효과 확인 치명률 낮추 사망 예방 효과 확인 치명률 낮추 사망 예방\n",
      "lenMaxSent : 64\n",
      "sizeVocab : 418\n",
      "\n",
      "========== Generated by RNN : Normal ===========================================\n",
      "백신 접종 후 사망 보도 의 속도 경쟁 으로 왜곡 되 ㄴ 일부 언론 의 행태 는 백신 접종 률 을 낮추 는 결과 로 나타나 ㄹ 수 있 어 언론 스스로 의 자율 규제 도 필요 하 다 . 코로나 19 자가 안전 이 가 기 때문 이 다 . 이상 반응 이 높 어 이상 하 는 이상 이 고 정치인 의 사망 같 은 틀리 었 다고만 는 없 다 . 집단 면역 ㄴ 도달 하 려면 신뢰 는 투명성 이 견고 해지 도록 정부 언론 의료계 정당 이 협력 하 고 친구 를 만나 고 해외여행 을 갈 ㄹ 수 있 을까 ? 60 이상 하\n",
      "lenMaxSent : 65\n",
      "sizeVocab : 418\n",
      "\n",
      "========== Generated by RNN : Ending ===========================================\n",
      "백신 접종 후 집단 면역 달성 을 위하 어 사용 하 ㄹ 수 있 는 정책 은 백신 의 접종 률 을 높이 는 길 뿐 이 다 . 코로나 19 감염 지원 도록 소급 적용 도 가능 하 다 . 이상 반응 감염 예방 효과 가 확인 하 었 고 치명률 이 다 . 집단 면역 ㄴ 발언 환자 코 에서 나로 여행길 이 막히 언론 의 정부 는 접종 하 게 을 낮추 으로 사망 되 ㄴ 불신 지 의 보고서 도 백신 하 ㄴ 백신 은 늘어나 는 사회적 이 ㄴ 교류 나 일자리 교육 운동 과 같 은 일상 이 고 예측 하 ㄴ다\n",
      "lenMaxSent : 64\n",
      "sizeVocab : 446\n",
      "\n",
      "========== Generated by RNN : POS ==============================================\n",
      "백신 접종 후 사망 보도 의 속도 경쟁 으로 왜곡 되 ㄴ 일부 언론 의 행태 는 백신 접종 률 을 낮추 는 결과 로 나타나 ㄹ 수 있 어 언론 스스로 의 자율 규제 도 필요 하 다 . 이상 반응 으로 사망 하 ㄴ 코로나 을 접종 하 고 중증 하 어야 에 접종 하 었 을 때 이득 이 이상 하 다 . 집단 면역 었 을 하 고 있 하 었 에서 는 없 코메디 명 중 으로 나타나 고 감염 는 으로 되 는 사건 이 벌어지 기 도 하 었 다 . 면역 도달 의 비율 이 어렵 이 이상 반응 에\n"
     ]
    }
   ],
   "source": [
    "def strOut(argStr, argStrSubj):\n",
    "    lenSubj = len(argStrSubj)\n",
    "    print(f\"\\n========== {argStrSubj} \", end=\"\")\n",
    "    print(\"=\"*(80-12-lenSubj))\n",
    "    print(argStr)\n",
    "    \n",
    "    \n",
    "numNews = 1\n",
    "numWordCloud = 25\n",
    "numWord = 50\n",
    "numEpochs=100\n",
    "lstPosStop=[]\n",
    "lstPosStopWC = [\"VX\", \"VC\", \"MD\", \"MA\", \"IC\", \"JK\", \"JX\", \"JC\", \"E\", \"X\", \"S\", \"U\"]\n",
    "\n",
    "def summary():\n",
    "    naverNewsUrl = \"https://news.naver.com\"\n",
    "    lstSumNews = []\n",
    "    strTmp = \"\"\n",
    "    \n",
    "    lstTextNews = getLstTextNews(naverNewsUrl, numNews)\n",
    "    for aNews in lstTextNews:\n",
    "        \n",
    "        strOut(aNews, \"Normal Sentence\")\n",
    "        \n",
    "        makeWordCloud(aNews, numWordCloud, lstPosStopWC)\n",
    "        \n",
    "        # Trigram을 이용하여 50단어로 요약(제거 품사는 없음)\n",
    "        strTmp = genSentByNGram(aNews, numWord, lstPosStop)\n",
    "        strOut(strTmp, \"Generated by Trigram\")\n",
    "        \n",
    "        strTmp = genSentByRnn(aNews, lstPosStop, argType=\"Norm\", argEpochs=numEpochs)\n",
    "        strOut(strTmp, \"Generated by RNN : Normal\")\n",
    "\n",
    "        strTmp = genSentByRnn(aNews, lstPosStop, argType=\"Ending\", argEpochs=numEpochs)\n",
    "        strOut(strTmp, \"Generated by RNN : Ending\")\n",
    "        \n",
    "        strTmp = genSentByRnnWithPos(aNews, lstPosStop, argEpochs=numEpochs)\n",
    "        strOut(strTmp, \"Generated by RNN : POS\")\n",
    "\n",
    "\n",
    "summary()"
   ]
  },
  {
   "cell_type": "code",
   "execution_count": null,
   "metadata": {},
   "outputs": [],
   "source": []
  }
 ],
 "metadata": {
  "kernelspec": {
   "display_name": "Python 3",
   "language": "python",
   "name": "python3"
  },
  "language_info": {
   "codemirror_mode": {
    "name": "ipython",
    "version": 3
   },
   "file_extension": ".py",
   "mimetype": "text/x-python",
   "name": "python",
   "nbconvert_exporter": "python",
   "pygments_lexer": "ipython3",
   "version": "3.8.5"
  }
 },
 "nbformat": 4,
 "nbformat_minor": 2
}
